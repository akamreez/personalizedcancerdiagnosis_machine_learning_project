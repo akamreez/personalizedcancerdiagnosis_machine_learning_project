{
 "cells": [
  {
   "cell_type": "code",
   "execution_count": 3,
   "metadata": {},
   "outputs": [],
   "source": [
    "import pandas as pd\n",
    "import numpy as np\n",
    "import seaborn as sns"
   ]
  },
  {
   "cell_type": "code",
   "execution_count": 8,
   "metadata": {},
   "outputs": [
    {
     "name": "stderr",
     "output_type": "stream",
     "text": [
      "C:\\Users\\amreez khan\\anaconda3\\lib\\site-packages\\IPython\\core\\interactiveshell.py:3146: DtypeWarning: Columns (105,110,115,120,125,129,130,131,132,133,134,135,136,137,138,139,140,141,142,143,144,145,146,147,148,149,150,151,152,153,154,155,156,157,158,159,160,161,162,163,164,165,166,167,168,169,170,171,172,173,174,175,176,177,178,179,180,181,182,183,184,185,186,187,188,189,190,191,192,193,194,195,196,197,198,199,200,201,202,203,204,205,206,207,208,209,210,211,212,213,214,215,216,217,218,219,220,221,222,223,224,225,226,227,228,229,230,231,232,233,234,235,236,237,238,239,240,241,242,243,244,245,246,247,248,249,250,251,252,253,254,255,256,257,258,259,260,261,262,263,264,265,266,267,268,269,270,271,272,273,274,275,276,277,278,279,280,281,282,283,284,285,286,287,288,289,290,291,292,293,294,295,296,297,298,299,300,301,302,303,304,305,306,307,308,309,310,311,312,313,314,315,316,317,318,319,320,321,322,323,324,325,326,327,328,329,330,331,332,333,334,335,336,337,338,339,340,341,342,343,344,345,346,347,348,349,350,351,352,353,354,355,356,357,358,359,360,361,362,363,364,365,366,367,368,369,370,371,372,373,374,375,376,377,378,379,380,381,382,383,384,385,386,387,388,389,390,391,392,393,394,395,396,397,398,399,400,401,402,403,404,405,406,407,408,409,410,411,412,413,414,415,416,417,418,419,420,421,422,423,424,425,426,427,428,429,430,431,432,433,434,435,436,437,438,439,440,441,442,443,444,445,446,447,448,449,450,451,452,453,454,455,456,457,458,459,460,461,462,463,464,465,466,467,468,469,470,471,472,473,474,475,476,477,478,479,480,481,482,483,484,485,486,487,488,489,490,491,492,493,494,495,496,497,498,499,500,501,502,503,504,505,506,507,508,509,510,511,512,513,514,515,516,517,518,519,520,521,522,523,524,525,526,527,528,529,530,531,532,533,534,535,536,537,538,539,540,541,542,543,544,545,546,547,548,549,550,551,552,553,554,555,556,557,558,559,560,561,562,563,564,565,566,567,568,569,570,571,572,573,574,575,576,577,578,579,580,581,582,583,584,585,586,587,588,589,590,591,592,593,594,595,596,597,598,599,600,601,602,603,604,605,606,607,608,609,610,611,612,613,614,615,616,617,618,619,620,621,622,623,624,625,626,627,628,629,630,631,632,633,634,635,636,637,638,639,640,641,642,643,644,645,646,647,648,649,650,651,652,653,654,655,656,657,658,659,660,661,662,663,664,665,666,667,668,669,670,671,672,673,674,675,676,677,678,679,680,681,682,683,684,685,686,687,688,689,690,691,692,693,694,695,696,697,698,699,700,701,702,703,704,705,706,707,708,709,710,711,712,713,714,715,716,717,718,719,720,721,722,723,724,725,726,727,728,729,730,731,732,733,734,735,736,737,738,739,740,741,742,743,744,745,746,747,748,749,750,751,752,753,754,755,756,757,758,759,760,761,762,763,764,765,766,767,768,769,770,771,772,773,774,775,776,777,778,779,780,781,782,783,784,785,786,787,788,789,790,791,792,793,794,795,796,797,798,799,800,801,802,803,804,805,806,807,808,809,810,811,812,813,814,815,816,817,818,819,820,821,822,823,824,825,826,827,828,829,830,831,832,833,834,835,836,837,838,839,840,841,842,843,844,845,846,847,848,849,850,851,852,853,854,855,856,857,858,859,860,861,862,863,864,865,866,867,868,869,870,871,872,873,874,875,876,877,878,879,880,881,882,883,884,885,886,887,888,889,890,891,892,893,894,895,896,897,898,899,900,901,902,903,904,905,906,907,908,909,910,911,912,913,914,915,916,917,918,919,920,921,922,923,924,925,926,927,928,929,930,931,932,933,934,935,936,937,938,939,940,941,942,943,944,945,946,947,948,949,950,951,952,953,954,955,956,957,958,959,960,961,962,963,964,965,966,967,968,969,970,971,972,973,974,975,976,977,978,979,980,981,982,983,984,985,986,987,988,989,990,991,992,993,994,995,996,997,998,999,1000,1001,1002,1003,1004,1005,1006,1007,1008,1009,1010,1011,1012,1013,1014,1015,1016,1017,1018,1019,1020,1021,1022,1023,1024,1025,1026,1027,1028,1029,1030,1031,1032,1033,1034,1035,1036,1037,1038,1039,1040,1041,1042,1043,1044,1045,1046,1047,1048,1049,1050,1051,1052,1053,1054,1055,1056,1057,1058,1059,1060,1061,1062,1063,1064,1065,1066,1067,1068,1069,1070,1071,1072,1073,1074,1075,1076,1077,1078,1079,1080,1081,1082,1083,1084,1085,1086,1087,1088,1089,1090,1091,1092,1093,1094,1095,1096,1097,1098,1099,1100,1101,1102,1103,1104,1105,1106,1107,1108,1109,1110,1111,1112,1113,1114,1115,1116,1117,1118,1119,1120,1121,1122,1123,1124,1125,1126,1127,1128,1129,1130,1131,1132,1133,1134,1135,1136,1137,1138,1139,1140,1141,1142,1143,1144,1145,1146,1147,1148,1149,1150,1151,1152,1153,1154,1155,1156,1157,1158,1159,1160,1161,1162,1163,1164,1165,1166,1167,1168,1169,1170,1171,1172,1173,1174,1175,1176,1177,1178,1179,1180,1181,1182,1183,1184,1185,1186,1187,1188,1189,1190,1191,1192,1193,1194,1195,1196,1197,1198,1199,1200,1201,1202,1203,1204,1205,1206,1207,1208,1209,1210,1211,1212,1213,1214,1215,1216,1217,1218,1219,1220,1221,1222,1223,1224,1225,1226,1227,1228,1229,1230,1231,1232,1233,1234,1235,1236,1237,1238,1239,1240,1241,1242,1243,1244,1245,1246,1247,1248,1249,1250,1251,1252,1253,1254,1255,1256,1257,1258,1259,1260,1261,1262,1263,1264,1265,1266,1267,1268,1269,1270,1271,1272,1273,1274,1275,1276,1277,1278,1279,1280,1281,1282,1283,1284,1285,1286,1287,1288,1289,1290,1291,1292,1293,1294,1295,1296,1297,1298,1299,1300,1301,1302,1303,1304,1305,1306,1307,1308,1309,1310,1311,1312,1313,1314,1315,1316,1317,1318,1319,1320,1321,1322,1323,1324,1325,1326,1327,1328,1329,1330,1331,1332,1333,1334,1335,1336,1337,1338,1339,1340,1341,1342,1343,1344,1345,1346,1347,1348,1349,1350,1351,1352,1353,1354,1355,1356,1357,1358,1359,1360,1361,1362,1363,1364,1365,1366,1367,1368,1369,1370,1371,1372,1373,1374,1375,1377,1378,1379,1380,1381,1382,1383,1384,1385,1386,1387,1388,1389,1390,1391,1392,1393,1394,1395,1396,1397,1398,1399,1401,1402,1403,1404,1405,1406,1407,1408,1409,1410,1411,1412,1413,1414,1415,1416,1417,1418,1419,1420,1421,1422,1423,1424,1425,1426,1427,1428,1429,1430,1431,1432,1433,1434,1435,1436,1437,1438,1439,1440,1441,1442,1443,1444,1445,1446,1447,1448,1449,1452,1454,1455,1457,1458,1459,1461,1462,1463,1464,1465,1466,1467,1468,1469,1470,1473,1475,1476,1479,1480,1481,1482,1483,1484,1485,1486,1487,1488,1489,1490,1491,1492,1493,1494,1495,1496,1497,1498,1499,1500,1501,1502,1503,1504,1505,1506,1507,1508,1509,1510,1511,1512,1513,1514,1515,1516,1517,1518,1519,1520,1523,1524,1525,1531,1534,1535,1536,1542,1545,1546,1547,1553,1556,1557,1558,1564,1567,1568,1569,1575,1578,1579,1580,1586,1589,1590,1591,1597,1600,1601,1602,1608,1611,1612,1613,1619,1622,1623,1624,1630,1633,1634,1635,1641,1644,1645,1646,1652,1655,1656,1657,1663,1666,1667,1668,1674,1677,1678,1679,1685,1688,1689,1690,1696,1699,1700,1701,1707,1710,1711,1712,1718,1721,1722,1723,1729,1732,1733,1734,1740,1743,1744,1745,1751,1754,1755,1756,1762,1765,1766,1767,1773,1776,1777,1778,1784,1787,1788,1789,1795,1798,1799,1800,1806,1809,1810,1811,1817,1820,1821,1822,1828,1831,1832,1833,1839,1842,1843,1844,1850,1853,1854,1855,1861,1864,1865,1866,1872,1875,1876,1877,1883,1886,1887,1888,1894,1897,1898,1899,1905,1908,1909,1910,1916,1919,1920,1921,1927,1930,1931,1932,1938,1941,1942,1943,1949,1952,1953,1954,1960,1963,1964,1965,1971,1974,1975,1976,1982,1985,1986,1987,1993,1996,1997,1998,2004,2007,2008,2009,2015,2018,2019,2020,2026,2029,2030,2031,2037,2040,2041,2042,2048,2051,2052,2053,2059,2062,2063,2064,2070,2073,2074,2075,2081,2084,2085,2086,2092,2095,2096,2097,2103,2106,2107,2108,2114,2115,2116,2117,2118,2119,2120,2121,2122,2123,2124,2125,2126,2138,2139,2144,2145,2147,2150,2162,2164,2165,2166,2170,2171,2172,2174,2175,2176,2179,2180,2181,2183,2184,2185,2186,2187,2188,2191,2192,2193,2195,2197,2198,2210,2211,2212,2217,2219,2220,2221,2222,2234,2241,2242,2243,2246,2258,2259,2261,2264,2265,2267,2268,2269,2270,2277,2279,2280,2282,2289,2290,2291,2294,2301,2305,2306,2313,2314,2315,2318,2319,2323,2324,2325,2328,2329,2330,2331,2332,2333,2335,2336,2342,2347,2348,2352,2353,2354,2366,2367,2372,2375,2378,2385,2387,2390,2392,2393,2395,2396,2401,2402,2403,2413,2414,2424,2426,2437,2438,2439,2443,2444,2448,2449,2450,2455,2456,2460,2461,2462) have mixed types.Specify dtype option on import or set low_memory=False.\n",
      "  has_raised = await self.run_ast_nodes(code_ast.body, cell_name,\n"
     ]
    }
   ],
   "source": [
    "df=pd.read_csv('ttnew22.csv')"
   ]
  },
  {
   "cell_type": "code",
   "execution_count": 9,
   "metadata": {},
   "outputs": [
    {
     "data": {
      "text/html": [
       "<div>\n",
       "<style scoped>\n",
       "    .dataframe tbody tr th:only-of-type {\n",
       "        vertical-align: middle;\n",
       "    }\n",
       "\n",
       "    .dataframe tbody tr th {\n",
       "        vertical-align: top;\n",
       "    }\n",
       "\n",
       "    .dataframe thead th {\n",
       "        text-align: right;\n",
       "    }\n",
       "</style>\n",
       "<table border=\"1\" class=\"dataframe\">\n",
       "  <thead>\n",
       "    <tr style=\"text-align: right;\">\n",
       "      <th></th>\n",
       "      <th>ID,Text</th>\n",
       "      <th>Unnamed: 1</th>\n",
       "      <th>Unnamed: 2</th>\n",
       "      <th>Unnamed: 3</th>\n",
       "      <th>Unnamed: 4</th>\n",
       "      <th>Unnamed: 5</th>\n",
       "      <th>Unnamed: 6</th>\n",
       "      <th>Unnamed: 7</th>\n",
       "      <th>Unnamed: 8</th>\n",
       "      <th>Unnamed: 9</th>\n",
       "      <th>...</th>\n",
       "      <th>Unnamed: 2453</th>\n",
       "      <th>Unnamed: 2454</th>\n",
       "      <th>Unnamed: 2455</th>\n",
       "      <th>Unnamed: 2456</th>\n",
       "      <th>Unnamed: 2457</th>\n",
       "      <th>Unnamed: 2458</th>\n",
       "      <th>Unnamed: 2459</th>\n",
       "      <th>Unnamed: 2460</th>\n",
       "      <th>Unnamed: 2461</th>\n",
       "      <th>Unnamed: 2462</th>\n",
       "    </tr>\n",
       "  </thead>\n",
       "  <tbody>\n",
       "    <tr>\n",
       "      <th>0</th>\n",
       "      <td>0||Cyclin-dependent kinases (CDKs) regulate a ...</td>\n",
       "      <td>NaN</td>\n",
       "      <td>NaN</td>\n",
       "      <td>NaN</td>\n",
       "      <td>NaN</td>\n",
       "      <td>NaN</td>\n",
       "      <td>NaN</td>\n",
       "      <td>NaN</td>\n",
       "      <td>NaN</td>\n",
       "      <td>NaN</td>\n",
       "      <td>...</td>\n",
       "      <td>NaN</td>\n",
       "      <td>NaN</td>\n",
       "      <td>NaN</td>\n",
       "      <td>NaN</td>\n",
       "      <td>NaN</td>\n",
       "      <td>NaN</td>\n",
       "      <td>NaN</td>\n",
       "      <td>NaN</td>\n",
       "      <td>NaN</td>\n",
       "      <td>NaN</td>\n",
       "    </tr>\n",
       "    <tr>\n",
       "      <th>1</th>\n",
       "      <td>1|| Abstract Background  Non-small cell lung c...</td>\n",
       "      <td>NaN</td>\n",
       "      <td>NaN</td>\n",
       "      <td>NaN</td>\n",
       "      <td>NaN</td>\n",
       "      <td>NaN</td>\n",
       "      <td>NaN</td>\n",
       "      <td>NaN</td>\n",
       "      <td>NaN</td>\n",
       "      <td>NaN</td>\n",
       "      <td>...</td>\n",
       "      <td>NaN</td>\n",
       "      <td>NaN</td>\n",
       "      <td>NaN</td>\n",
       "      <td>NaN</td>\n",
       "      <td>NaN</td>\n",
       "      <td>NaN</td>\n",
       "      <td>NaN</td>\n",
       "      <td>NaN</td>\n",
       "      <td>NaN</td>\n",
       "      <td>NaN</td>\n",
       "    </tr>\n",
       "    <tr>\n",
       "      <th>2</th>\n",
       "      <td>2|| Abstract Background  Non-small cell lung c...</td>\n",
       "      <td>NaN</td>\n",
       "      <td>NaN</td>\n",
       "      <td>NaN</td>\n",
       "      <td>NaN</td>\n",
       "      <td>NaN</td>\n",
       "      <td>NaN</td>\n",
       "      <td>NaN</td>\n",
       "      <td>NaN</td>\n",
       "      <td>NaN</td>\n",
       "      <td>...</td>\n",
       "      <td>NaN</td>\n",
       "      <td>NaN</td>\n",
       "      <td>NaN</td>\n",
       "      <td>NaN</td>\n",
       "      <td>NaN</td>\n",
       "      <td>NaN</td>\n",
       "      <td>NaN</td>\n",
       "      <td>NaN</td>\n",
       "      <td>NaN</td>\n",
       "      <td>NaN</td>\n",
       "    </tr>\n",
       "    <tr>\n",
       "      <th>3</th>\n",
       "      <td>3||Recent evidence has demonstrated that acqui...</td>\n",
       "      <td>NaN</td>\n",
       "      <td>NaN</td>\n",
       "      <td>NaN</td>\n",
       "      <td>NaN</td>\n",
       "      <td>NaN</td>\n",
       "      <td>NaN</td>\n",
       "      <td>NaN</td>\n",
       "      <td>NaN</td>\n",
       "      <td>NaN</td>\n",
       "      <td>...</td>\n",
       "      <td>NaN</td>\n",
       "      <td>NaN</td>\n",
       "      <td>NaN</td>\n",
       "      <td>NaN</td>\n",
       "      <td>NaN</td>\n",
       "      <td>NaN</td>\n",
       "      <td>NaN</td>\n",
       "      <td>NaN</td>\n",
       "      <td>NaN</td>\n",
       "      <td>NaN</td>\n",
       "    </tr>\n",
       "    <tr>\n",
       "      <th>4</th>\n",
       "      <td>4||Oncogenic mutations in the monomeric Casita...</td>\n",
       "      <td>NaN</td>\n",
       "      <td>NaN</td>\n",
       "      <td>NaN</td>\n",
       "      <td>NaN</td>\n",
       "      <td>NaN</td>\n",
       "      <td>NaN</td>\n",
       "      <td>NaN</td>\n",
       "      <td>NaN</td>\n",
       "      <td>NaN</td>\n",
       "      <td>...</td>\n",
       "      <td>NaN</td>\n",
       "      <td>NaN</td>\n",
       "      <td>NaN</td>\n",
       "      <td>NaN</td>\n",
       "      <td>NaN</td>\n",
       "      <td>NaN</td>\n",
       "      <td>NaN</td>\n",
       "      <td>NaN</td>\n",
       "      <td>NaN</td>\n",
       "      <td>NaN</td>\n",
       "    </tr>\n",
       "    <tr>\n",
       "      <th>...</th>\n",
       "      <td>...</td>\n",
       "      <td>...</td>\n",
       "      <td>...</td>\n",
       "      <td>...</td>\n",
       "      <td>...</td>\n",
       "      <td>...</td>\n",
       "      <td>...</td>\n",
       "      <td>...</td>\n",
       "      <td>...</td>\n",
       "      <td>...</td>\n",
       "      <td>...</td>\n",
       "      <td>...</td>\n",
       "      <td>...</td>\n",
       "      <td>...</td>\n",
       "      <td>...</td>\n",
       "      <td>...</td>\n",
       "      <td>...</td>\n",
       "      <td>...</td>\n",
       "      <td>...</td>\n",
       "      <td>...</td>\n",
       "      <td>...</td>\n",
       "    </tr>\n",
       "    <tr>\n",
       "      <th>3316</th>\n",
       "      <td>3316||Introduction  Myelodysplastic syndromes ...</td>\n",
       "      <td>NaN</td>\n",
       "      <td>NaN</td>\n",
       "      <td>NaN</td>\n",
       "      <td>NaN</td>\n",
       "      <td>NaN</td>\n",
       "      <td>NaN</td>\n",
       "      <td>NaN</td>\n",
       "      <td>NaN</td>\n",
       "      <td>NaN</td>\n",
       "      <td>...</td>\n",
       "      <td>NaN</td>\n",
       "      <td>NaN</td>\n",
       "      <td>NaN</td>\n",
       "      <td>NaN</td>\n",
       "      <td>NaN</td>\n",
       "      <td>NaN</td>\n",
       "      <td>NaN</td>\n",
       "      <td>NaN</td>\n",
       "      <td>NaN</td>\n",
       "      <td>NaN</td>\n",
       "    </tr>\n",
       "    <tr>\n",
       "      <th>3317</th>\n",
       "      <td>3317||Introduction  Myelodysplastic syndromes ...</td>\n",
       "      <td>NaN</td>\n",
       "      <td>NaN</td>\n",
       "      <td>NaN</td>\n",
       "      <td>NaN</td>\n",
       "      <td>NaN</td>\n",
       "      <td>NaN</td>\n",
       "      <td>NaN</td>\n",
       "      <td>NaN</td>\n",
       "      <td>NaN</td>\n",
       "      <td>...</td>\n",
       "      <td>NaN</td>\n",
       "      <td>NaN</td>\n",
       "      <td>NaN</td>\n",
       "      <td>NaN</td>\n",
       "      <td>NaN</td>\n",
       "      <td>NaN</td>\n",
       "      <td>NaN</td>\n",
       "      <td>NaN</td>\n",
       "      <td>NaN</td>\n",
       "      <td>NaN</td>\n",
       "    </tr>\n",
       "    <tr>\n",
       "      <th>3318</th>\n",
       "      <td>3318||The Runt-related transcription factor 1 ...</td>\n",
       "      <td>RUNX1 has a crucial role in establishment of d...</td>\n",
       "      <td>RUNX1 spans 260 kb and consists of 12 exons wi...</td>\n",
       "      <td>RUNX1 acts as a key regulator of hematopoiesis...</td>\n",
       "      <td>The RUNX1 protein has two major domains of bio...</td>\n",
       "      <td>The RUNX1 protein acts as activator or repress...</td>\n",
       "      <td>There are 55 partner chromosome bands involved...</td>\n",
       "      <td>A few translocations are recurrent, but the ma...</td>\n",
       "      <td>Complex translocations involving three or four...</td>\n",
       "      <td>A total of 21 partner genes involved in fusion...</td>\n",
       "      <td>...</td>\n",
       "      <td>NaN</td>\n",
       "      <td>NaN</td>\n",
       "      <td>NaN</td>\n",
       "      <td>NaN</td>\n",
       "      <td>NaN</td>\n",
       "      <td>NaN</td>\n",
       "      <td>NaN</td>\n",
       "      <td>NaN</td>\n",
       "      <td>NaN</td>\n",
       "      <td>NaN</td>\n",
       "    </tr>\n",
       "    <tr>\n",
       "      <th>3319</th>\n",
       "      <td>3319||The RUNX1/AML1 gene is the most frequent...</td>\n",
       "      <td>NaN</td>\n",
       "      <td>NaN</td>\n",
       "      <td>NaN</td>\n",
       "      <td>NaN</td>\n",
       "      <td>NaN</td>\n",
       "      <td>NaN</td>\n",
       "      <td>NaN</td>\n",
       "      <td>NaN</td>\n",
       "      <td>NaN</td>\n",
       "      <td>...</td>\n",
       "      <td>NaN</td>\n",
       "      <td>NaN</td>\n",
       "      <td>NaN</td>\n",
       "      <td>NaN</td>\n",
       "      <td>NaN</td>\n",
       "      <td>NaN</td>\n",
       "      <td>NaN</td>\n",
       "      <td>NaN</td>\n",
       "      <td>NaN</td>\n",
       "      <td>NaN</td>\n",
       "    </tr>\n",
       "    <tr>\n",
       "      <th>3320</th>\n",
       "      <td>3320||The most frequent mutations associated w...</td>\n",
       "      <td>NaN</td>\n",
       "      <td>NaN</td>\n",
       "      <td>NaN</td>\n",
       "      <td>NaN</td>\n",
       "      <td>NaN</td>\n",
       "      <td>NaN</td>\n",
       "      <td>NaN</td>\n",
       "      <td>NaN</td>\n",
       "      <td>NaN</td>\n",
       "      <td>...</td>\n",
       "      <td>NaN</td>\n",
       "      <td>NaN</td>\n",
       "      <td>NaN</td>\n",
       "      <td>NaN</td>\n",
       "      <td>NaN</td>\n",
       "      <td>NaN</td>\n",
       "      <td>NaN</td>\n",
       "      <td>NaN</td>\n",
       "      <td>NaN</td>\n",
       "      <td>NaN</td>\n",
       "    </tr>\n",
       "  </tbody>\n",
       "</table>\n",
       "<p>3321 rows × 2463 columns</p>\n",
       "</div>"
      ],
      "text/plain": [
       "                                                ID,Text  \\\n",
       "0     0||Cyclin-dependent kinases (CDKs) regulate a ...   \n",
       "1     1|| Abstract Background  Non-small cell lung c...   \n",
       "2     2|| Abstract Background  Non-small cell lung c...   \n",
       "3     3||Recent evidence has demonstrated that acqui...   \n",
       "4     4||Oncogenic mutations in the monomeric Casita...   \n",
       "...                                                 ...   \n",
       "3316  3316||Introduction  Myelodysplastic syndromes ...   \n",
       "3317  3317||Introduction  Myelodysplastic syndromes ...   \n",
       "3318  3318||The Runt-related transcription factor 1 ...   \n",
       "3319  3319||The RUNX1/AML1 gene is the most frequent...   \n",
       "3320  3320||The most frequent mutations associated w...   \n",
       "\n",
       "                                             Unnamed: 1  \\\n",
       "0                                                   NaN   \n",
       "1                                                   NaN   \n",
       "2                                                   NaN   \n",
       "3                                                   NaN   \n",
       "4                                                   NaN   \n",
       "...                                                 ...   \n",
       "3316                                                NaN   \n",
       "3317                                                NaN   \n",
       "3318  RUNX1 has a crucial role in establishment of d...   \n",
       "3319                                                NaN   \n",
       "3320                                                NaN   \n",
       "\n",
       "                                             Unnamed: 2  \\\n",
       "0                                                   NaN   \n",
       "1                                                   NaN   \n",
       "2                                                   NaN   \n",
       "3                                                   NaN   \n",
       "4                                                   NaN   \n",
       "...                                                 ...   \n",
       "3316                                                NaN   \n",
       "3317                                                NaN   \n",
       "3318  RUNX1 spans 260 kb and consists of 12 exons wi...   \n",
       "3319                                                NaN   \n",
       "3320                                                NaN   \n",
       "\n",
       "                                             Unnamed: 3  \\\n",
       "0                                                   NaN   \n",
       "1                                                   NaN   \n",
       "2                                                   NaN   \n",
       "3                                                   NaN   \n",
       "4                                                   NaN   \n",
       "...                                                 ...   \n",
       "3316                                                NaN   \n",
       "3317                                                NaN   \n",
       "3318  RUNX1 acts as a key regulator of hematopoiesis...   \n",
       "3319                                                NaN   \n",
       "3320                                                NaN   \n",
       "\n",
       "                                             Unnamed: 4  \\\n",
       "0                                                   NaN   \n",
       "1                                                   NaN   \n",
       "2                                                   NaN   \n",
       "3                                                   NaN   \n",
       "4                                                   NaN   \n",
       "...                                                 ...   \n",
       "3316                                                NaN   \n",
       "3317                                                NaN   \n",
       "3318  The RUNX1 protein has two major domains of bio...   \n",
       "3319                                                NaN   \n",
       "3320                                                NaN   \n",
       "\n",
       "                                             Unnamed: 5  \\\n",
       "0                                                   NaN   \n",
       "1                                                   NaN   \n",
       "2                                                   NaN   \n",
       "3                                                   NaN   \n",
       "4                                                   NaN   \n",
       "...                                                 ...   \n",
       "3316                                                NaN   \n",
       "3317                                                NaN   \n",
       "3318  The RUNX1 protein acts as activator or repress...   \n",
       "3319                                                NaN   \n",
       "3320                                                NaN   \n",
       "\n",
       "                                             Unnamed: 6  \\\n",
       "0                                                   NaN   \n",
       "1                                                   NaN   \n",
       "2                                                   NaN   \n",
       "3                                                   NaN   \n",
       "4                                                   NaN   \n",
       "...                                                 ...   \n",
       "3316                                                NaN   \n",
       "3317                                                NaN   \n",
       "3318  There are 55 partner chromosome bands involved...   \n",
       "3319                                                NaN   \n",
       "3320                                                NaN   \n",
       "\n",
       "                                             Unnamed: 7  \\\n",
       "0                                                   NaN   \n",
       "1                                                   NaN   \n",
       "2                                                   NaN   \n",
       "3                                                   NaN   \n",
       "4                                                   NaN   \n",
       "...                                                 ...   \n",
       "3316                                                NaN   \n",
       "3317                                                NaN   \n",
       "3318  A few translocations are recurrent, but the ma...   \n",
       "3319                                                NaN   \n",
       "3320                                                NaN   \n",
       "\n",
       "                                             Unnamed: 8  \\\n",
       "0                                                   NaN   \n",
       "1                                                   NaN   \n",
       "2                                                   NaN   \n",
       "3                                                   NaN   \n",
       "4                                                   NaN   \n",
       "...                                                 ...   \n",
       "3316                                                NaN   \n",
       "3317                                                NaN   \n",
       "3318  Complex translocations involving three or four...   \n",
       "3319                                                NaN   \n",
       "3320                                                NaN   \n",
       "\n",
       "                                             Unnamed: 9  ... Unnamed: 2453  \\\n",
       "0                                                   NaN  ...           NaN   \n",
       "1                                                   NaN  ...           NaN   \n",
       "2                                                   NaN  ...           NaN   \n",
       "3                                                   NaN  ...           NaN   \n",
       "4                                                   NaN  ...           NaN   \n",
       "...                                                 ...  ...           ...   \n",
       "3316                                                NaN  ...           NaN   \n",
       "3317                                                NaN  ...           NaN   \n",
       "3318  A total of 21 partner genes involved in fusion...  ...           NaN   \n",
       "3319                                                NaN  ...           NaN   \n",
       "3320                                                NaN  ...           NaN   \n",
       "\n",
       "     Unnamed: 2454 Unnamed: 2455 Unnamed: 2456 Unnamed: 2457 Unnamed: 2458  \\\n",
       "0              NaN           NaN           NaN           NaN           NaN   \n",
       "1              NaN           NaN           NaN           NaN           NaN   \n",
       "2              NaN           NaN           NaN           NaN           NaN   \n",
       "3              NaN           NaN           NaN           NaN           NaN   \n",
       "4              NaN           NaN           NaN           NaN           NaN   \n",
       "...            ...           ...           ...           ...           ...   \n",
       "3316           NaN           NaN           NaN           NaN           NaN   \n",
       "3317           NaN           NaN           NaN           NaN           NaN   \n",
       "3318           NaN           NaN           NaN           NaN           NaN   \n",
       "3319           NaN           NaN           NaN           NaN           NaN   \n",
       "3320           NaN           NaN           NaN           NaN           NaN   \n",
       "\n",
       "     Unnamed: 2459 Unnamed: 2460 Unnamed: 2461 Unnamed: 2462  \n",
       "0              NaN           NaN           NaN           NaN  \n",
       "1              NaN           NaN           NaN           NaN  \n",
       "2              NaN           NaN           NaN           NaN  \n",
       "3              NaN           NaN           NaN           NaN  \n",
       "4              NaN           NaN           NaN           NaN  \n",
       "...            ...           ...           ...           ...  \n",
       "3316           NaN           NaN           NaN           NaN  \n",
       "3317           NaN           NaN           NaN           NaN  \n",
       "3318           NaN           NaN           NaN           NaN  \n",
       "3319           NaN           NaN           NaN           NaN  \n",
       "3320           NaN           NaN           NaN           NaN  \n",
       "\n",
       "[3321 rows x 2463 columns]"
      ]
     },
     "execution_count": 9,
     "metadata": {},
     "output_type": "execute_result"
    }
   ],
   "source": [
    "df"
   ]
  },
  {
   "cell_type": "code",
   "execution_count": 30,
   "metadata": {},
   "outputs": [
    {
     "data": {
      "text/html": [
       "<div>\n",
       "<style scoped>\n",
       "    .dataframe tbody tr th:only-of-type {\n",
       "        vertical-align: middle;\n",
       "    }\n",
       "\n",
       "    .dataframe tbody tr th {\n",
       "        vertical-align: top;\n",
       "    }\n",
       "\n",
       "    .dataframe thead th {\n",
       "        text-align: right;\n",
       "    }\n",
       "</style>\n",
       "<table border=\"1\" class=\"dataframe\">\n",
       "  <thead>\n",
       "    <tr style=\"text-align: right;\">\n",
       "      <th></th>\n",
       "      <th>ID,Text</th>\n",
       "      <th>Unnamed: 1</th>\n",
       "      <th>Unnamed: 2</th>\n",
       "      <th>Unnamed: 3</th>\n",
       "      <th>Unnamed: 4</th>\n",
       "      <th>Unnamed: 5</th>\n",
       "      <th>Unnamed: 6</th>\n",
       "      <th>Unnamed: 7</th>\n",
       "      <th>Unnamed: 8</th>\n",
       "      <th>Unnamed: 9</th>\n",
       "      <th>...</th>\n",
       "      <th>Unnamed: 2453</th>\n",
       "      <th>Unnamed: 2454</th>\n",
       "      <th>Unnamed: 2455</th>\n",
       "      <th>Unnamed: 2456</th>\n",
       "      <th>Unnamed: 2457</th>\n",
       "      <th>Unnamed: 2458</th>\n",
       "      <th>Unnamed: 2459</th>\n",
       "      <th>Unnamed: 2460</th>\n",
       "      <th>Unnamed: 2461</th>\n",
       "      <th>Unnamed: 2462</th>\n",
       "    </tr>\n",
       "  </thead>\n",
       "  <tbody>\n",
       "    <tr>\n",
       "      <th>0</th>\n",
       "      <td>0||Cyclin-dependent kinases (CDKs) regulate a ...</td>\n",
       "      <td>NaN</td>\n",
       "      <td>NaN</td>\n",
       "      <td>NaN</td>\n",
       "      <td>NaN</td>\n",
       "      <td>NaN</td>\n",
       "      <td>NaN</td>\n",
       "      <td>NaN</td>\n",
       "      <td>NaN</td>\n",
       "      <td>NaN</td>\n",
       "      <td>...</td>\n",
       "      <td>NaN</td>\n",
       "      <td>NaN</td>\n",
       "      <td>NaN</td>\n",
       "      <td>NaN</td>\n",
       "      <td>NaN</td>\n",
       "      <td>NaN</td>\n",
       "      <td>NaN</td>\n",
       "      <td>NaN</td>\n",
       "      <td>NaN</td>\n",
       "      <td>NaN</td>\n",
       "    </tr>\n",
       "    <tr>\n",
       "      <th>1</th>\n",
       "      <td>1|| Abstract Background  Non-small cell lung c...</td>\n",
       "      <td>NaN</td>\n",
       "      <td>NaN</td>\n",
       "      <td>NaN</td>\n",
       "      <td>NaN</td>\n",
       "      <td>NaN</td>\n",
       "      <td>NaN</td>\n",
       "      <td>NaN</td>\n",
       "      <td>NaN</td>\n",
       "      <td>NaN</td>\n",
       "      <td>...</td>\n",
       "      <td>NaN</td>\n",
       "      <td>NaN</td>\n",
       "      <td>NaN</td>\n",
       "      <td>NaN</td>\n",
       "      <td>NaN</td>\n",
       "      <td>NaN</td>\n",
       "      <td>NaN</td>\n",
       "      <td>NaN</td>\n",
       "      <td>NaN</td>\n",
       "      <td>NaN</td>\n",
       "    </tr>\n",
       "    <tr>\n",
       "      <th>2</th>\n",
       "      <td>2|| Abstract Background  Non-small cell lung c...</td>\n",
       "      <td>NaN</td>\n",
       "      <td>NaN</td>\n",
       "      <td>NaN</td>\n",
       "      <td>NaN</td>\n",
       "      <td>NaN</td>\n",
       "      <td>NaN</td>\n",
       "      <td>NaN</td>\n",
       "      <td>NaN</td>\n",
       "      <td>NaN</td>\n",
       "      <td>...</td>\n",
       "      <td>NaN</td>\n",
       "      <td>NaN</td>\n",
       "      <td>NaN</td>\n",
       "      <td>NaN</td>\n",
       "      <td>NaN</td>\n",
       "      <td>NaN</td>\n",
       "      <td>NaN</td>\n",
       "      <td>NaN</td>\n",
       "      <td>NaN</td>\n",
       "      <td>NaN</td>\n",
       "    </tr>\n",
       "    <tr>\n",
       "      <th>3</th>\n",
       "      <td>3||Recent evidence has demonstrated that acqui...</td>\n",
       "      <td>NaN</td>\n",
       "      <td>NaN</td>\n",
       "      <td>NaN</td>\n",
       "      <td>NaN</td>\n",
       "      <td>NaN</td>\n",
       "      <td>NaN</td>\n",
       "      <td>NaN</td>\n",
       "      <td>NaN</td>\n",
       "      <td>NaN</td>\n",
       "      <td>...</td>\n",
       "      <td>NaN</td>\n",
       "      <td>NaN</td>\n",
       "      <td>NaN</td>\n",
       "      <td>NaN</td>\n",
       "      <td>NaN</td>\n",
       "      <td>NaN</td>\n",
       "      <td>NaN</td>\n",
       "      <td>NaN</td>\n",
       "      <td>NaN</td>\n",
       "      <td>NaN</td>\n",
       "    </tr>\n",
       "    <tr>\n",
       "      <th>4</th>\n",
       "      <td>4||Oncogenic mutations in the monomeric Casita...</td>\n",
       "      <td>NaN</td>\n",
       "      <td>NaN</td>\n",
       "      <td>NaN</td>\n",
       "      <td>NaN</td>\n",
       "      <td>NaN</td>\n",
       "      <td>NaN</td>\n",
       "      <td>NaN</td>\n",
       "      <td>NaN</td>\n",
       "      <td>NaN</td>\n",
       "      <td>...</td>\n",
       "      <td>NaN</td>\n",
       "      <td>NaN</td>\n",
       "      <td>NaN</td>\n",
       "      <td>NaN</td>\n",
       "      <td>NaN</td>\n",
       "      <td>NaN</td>\n",
       "      <td>NaN</td>\n",
       "      <td>NaN</td>\n",
       "      <td>NaN</td>\n",
       "      <td>NaN</td>\n",
       "    </tr>\n",
       "    <tr>\n",
       "      <th>...</th>\n",
       "      <td>...</td>\n",
       "      <td>...</td>\n",
       "      <td>...</td>\n",
       "      <td>...</td>\n",
       "      <td>...</td>\n",
       "      <td>...</td>\n",
       "      <td>...</td>\n",
       "      <td>...</td>\n",
       "      <td>...</td>\n",
       "      <td>...</td>\n",
       "      <td>...</td>\n",
       "      <td>...</td>\n",
       "      <td>...</td>\n",
       "      <td>...</td>\n",
       "      <td>...</td>\n",
       "      <td>...</td>\n",
       "      <td>...</td>\n",
       "      <td>...</td>\n",
       "      <td>...</td>\n",
       "      <td>...</td>\n",
       "      <td>...</td>\n",
       "    </tr>\n",
       "    <tr>\n",
       "      <th>3316</th>\n",
       "      <td>3316||Introduction  Myelodysplastic syndromes ...</td>\n",
       "      <td>NaN</td>\n",
       "      <td>NaN</td>\n",
       "      <td>NaN</td>\n",
       "      <td>NaN</td>\n",
       "      <td>NaN</td>\n",
       "      <td>NaN</td>\n",
       "      <td>NaN</td>\n",
       "      <td>NaN</td>\n",
       "      <td>NaN</td>\n",
       "      <td>...</td>\n",
       "      <td>NaN</td>\n",
       "      <td>NaN</td>\n",
       "      <td>NaN</td>\n",
       "      <td>NaN</td>\n",
       "      <td>NaN</td>\n",
       "      <td>NaN</td>\n",
       "      <td>NaN</td>\n",
       "      <td>NaN</td>\n",
       "      <td>NaN</td>\n",
       "      <td>NaN</td>\n",
       "    </tr>\n",
       "    <tr>\n",
       "      <th>3317</th>\n",
       "      <td>3317||Introduction  Myelodysplastic syndromes ...</td>\n",
       "      <td>NaN</td>\n",
       "      <td>NaN</td>\n",
       "      <td>NaN</td>\n",
       "      <td>NaN</td>\n",
       "      <td>NaN</td>\n",
       "      <td>NaN</td>\n",
       "      <td>NaN</td>\n",
       "      <td>NaN</td>\n",
       "      <td>NaN</td>\n",
       "      <td>...</td>\n",
       "      <td>NaN</td>\n",
       "      <td>NaN</td>\n",
       "      <td>NaN</td>\n",
       "      <td>NaN</td>\n",
       "      <td>NaN</td>\n",
       "      <td>NaN</td>\n",
       "      <td>NaN</td>\n",
       "      <td>NaN</td>\n",
       "      <td>NaN</td>\n",
       "      <td>NaN</td>\n",
       "    </tr>\n",
       "    <tr>\n",
       "      <th>3318</th>\n",
       "      <td>3318||The Runt-related transcription factor 1 ...</td>\n",
       "      <td>RUNX1 has a crucial role in establishment of d...</td>\n",
       "      <td>RUNX1 spans 260 kb and consists of 12 exons wi...</td>\n",
       "      <td>RUNX1 acts as a key regulator of hematopoiesis...</td>\n",
       "      <td>The RUNX1 protein has two major domains of bio...</td>\n",
       "      <td>The RUNX1 protein acts as activator or repress...</td>\n",
       "      <td>There are 55 partner chromosome bands involved...</td>\n",
       "      <td>A few translocations are recurrent, but the ma...</td>\n",
       "      <td>Complex translocations involving three or four...</td>\n",
       "      <td>A total of 21 partner genes involved in fusion...</td>\n",
       "      <td>...</td>\n",
       "      <td>NaN</td>\n",
       "      <td>NaN</td>\n",
       "      <td>NaN</td>\n",
       "      <td>NaN</td>\n",
       "      <td>NaN</td>\n",
       "      <td>NaN</td>\n",
       "      <td>NaN</td>\n",
       "      <td>NaN</td>\n",
       "      <td>NaN</td>\n",
       "      <td>NaN</td>\n",
       "    </tr>\n",
       "    <tr>\n",
       "      <th>3319</th>\n",
       "      <td>3319||The RUNX1/AML1 gene is the most frequent...</td>\n",
       "      <td>NaN</td>\n",
       "      <td>NaN</td>\n",
       "      <td>NaN</td>\n",
       "      <td>NaN</td>\n",
       "      <td>NaN</td>\n",
       "      <td>NaN</td>\n",
       "      <td>NaN</td>\n",
       "      <td>NaN</td>\n",
       "      <td>NaN</td>\n",
       "      <td>...</td>\n",
       "      <td>NaN</td>\n",
       "      <td>NaN</td>\n",
       "      <td>NaN</td>\n",
       "      <td>NaN</td>\n",
       "      <td>NaN</td>\n",
       "      <td>NaN</td>\n",
       "      <td>NaN</td>\n",
       "      <td>NaN</td>\n",
       "      <td>NaN</td>\n",
       "      <td>NaN</td>\n",
       "    </tr>\n",
       "    <tr>\n",
       "      <th>3320</th>\n",
       "      <td>3320||The most frequent mutations associated w...</td>\n",
       "      <td>NaN</td>\n",
       "      <td>NaN</td>\n",
       "      <td>NaN</td>\n",
       "      <td>NaN</td>\n",
       "      <td>NaN</td>\n",
       "      <td>NaN</td>\n",
       "      <td>NaN</td>\n",
       "      <td>NaN</td>\n",
       "      <td>NaN</td>\n",
       "      <td>...</td>\n",
       "      <td>NaN</td>\n",
       "      <td>NaN</td>\n",
       "      <td>NaN</td>\n",
       "      <td>NaN</td>\n",
       "      <td>NaN</td>\n",
       "      <td>NaN</td>\n",
       "      <td>NaN</td>\n",
       "      <td>NaN</td>\n",
       "      <td>NaN</td>\n",
       "      <td>NaN</td>\n",
       "    </tr>\n",
       "  </tbody>\n",
       "</table>\n",
       "<p>3321 rows × 2463 columns</p>\n",
       "</div>"
      ],
      "text/plain": [
       "                                                ID,Text  \\\n",
       "0     0||Cyclin-dependent kinases (CDKs) regulate a ...   \n",
       "1     1|| Abstract Background  Non-small cell lung c...   \n",
       "2     2|| Abstract Background  Non-small cell lung c...   \n",
       "3     3||Recent evidence has demonstrated that acqui...   \n",
       "4     4||Oncogenic mutations in the monomeric Casita...   \n",
       "...                                                 ...   \n",
       "3316  3316||Introduction  Myelodysplastic syndromes ...   \n",
       "3317  3317||Introduction  Myelodysplastic syndromes ...   \n",
       "3318  3318||The Runt-related transcription factor 1 ...   \n",
       "3319  3319||The RUNX1/AML1 gene is the most frequent...   \n",
       "3320  3320||The most frequent mutations associated w...   \n",
       "\n",
       "                                             Unnamed: 1  \\\n",
       "0                                                   NaN   \n",
       "1                                                   NaN   \n",
       "2                                                   NaN   \n",
       "3                                                   NaN   \n",
       "4                                                   NaN   \n",
       "...                                                 ...   \n",
       "3316                                                NaN   \n",
       "3317                                                NaN   \n",
       "3318  RUNX1 has a crucial role in establishment of d...   \n",
       "3319                                                NaN   \n",
       "3320                                                NaN   \n",
       "\n",
       "                                             Unnamed: 2  \\\n",
       "0                                                   NaN   \n",
       "1                                                   NaN   \n",
       "2                                                   NaN   \n",
       "3                                                   NaN   \n",
       "4                                                   NaN   \n",
       "...                                                 ...   \n",
       "3316                                                NaN   \n",
       "3317                                                NaN   \n",
       "3318  RUNX1 spans 260 kb and consists of 12 exons wi...   \n",
       "3319                                                NaN   \n",
       "3320                                                NaN   \n",
       "\n",
       "                                             Unnamed: 3  \\\n",
       "0                                                   NaN   \n",
       "1                                                   NaN   \n",
       "2                                                   NaN   \n",
       "3                                                   NaN   \n",
       "4                                                   NaN   \n",
       "...                                                 ...   \n",
       "3316                                                NaN   \n",
       "3317                                                NaN   \n",
       "3318  RUNX1 acts as a key regulator of hematopoiesis...   \n",
       "3319                                                NaN   \n",
       "3320                                                NaN   \n",
       "\n",
       "                                             Unnamed: 4  \\\n",
       "0                                                   NaN   \n",
       "1                                                   NaN   \n",
       "2                                                   NaN   \n",
       "3                                                   NaN   \n",
       "4                                                   NaN   \n",
       "...                                                 ...   \n",
       "3316                                                NaN   \n",
       "3317                                                NaN   \n",
       "3318  The RUNX1 protein has two major domains of bio...   \n",
       "3319                                                NaN   \n",
       "3320                                                NaN   \n",
       "\n",
       "                                             Unnamed: 5  \\\n",
       "0                                                   NaN   \n",
       "1                                                   NaN   \n",
       "2                                                   NaN   \n",
       "3                                                   NaN   \n",
       "4                                                   NaN   \n",
       "...                                                 ...   \n",
       "3316                                                NaN   \n",
       "3317                                                NaN   \n",
       "3318  The RUNX1 protein acts as activator or repress...   \n",
       "3319                                                NaN   \n",
       "3320                                                NaN   \n",
       "\n",
       "                                             Unnamed: 6  \\\n",
       "0                                                   NaN   \n",
       "1                                                   NaN   \n",
       "2                                                   NaN   \n",
       "3                                                   NaN   \n",
       "4                                                   NaN   \n",
       "...                                                 ...   \n",
       "3316                                                NaN   \n",
       "3317                                                NaN   \n",
       "3318  There are 55 partner chromosome bands involved...   \n",
       "3319                                                NaN   \n",
       "3320                                                NaN   \n",
       "\n",
       "                                             Unnamed: 7  \\\n",
       "0                                                   NaN   \n",
       "1                                                   NaN   \n",
       "2                                                   NaN   \n",
       "3                                                   NaN   \n",
       "4                                                   NaN   \n",
       "...                                                 ...   \n",
       "3316                                                NaN   \n",
       "3317                                                NaN   \n",
       "3318  A few translocations are recurrent, but the ma...   \n",
       "3319                                                NaN   \n",
       "3320                                                NaN   \n",
       "\n",
       "                                             Unnamed: 8  \\\n",
       "0                                                   NaN   \n",
       "1                                                   NaN   \n",
       "2                                                   NaN   \n",
       "3                                                   NaN   \n",
       "4                                                   NaN   \n",
       "...                                                 ...   \n",
       "3316                                                NaN   \n",
       "3317                                                NaN   \n",
       "3318  Complex translocations involving three or four...   \n",
       "3319                                                NaN   \n",
       "3320                                                NaN   \n",
       "\n",
       "                                             Unnamed: 9  ... Unnamed: 2453  \\\n",
       "0                                                   NaN  ...           NaN   \n",
       "1                                                   NaN  ...           NaN   \n",
       "2                                                   NaN  ...           NaN   \n",
       "3                                                   NaN  ...           NaN   \n",
       "4                                                   NaN  ...           NaN   \n",
       "...                                                 ...  ...           ...   \n",
       "3316                                                NaN  ...           NaN   \n",
       "3317                                                NaN  ...           NaN   \n",
       "3318  A total of 21 partner genes involved in fusion...  ...           NaN   \n",
       "3319                                                NaN  ...           NaN   \n",
       "3320                                                NaN  ...           NaN   \n",
       "\n",
       "     Unnamed: 2454 Unnamed: 2455 Unnamed: 2456 Unnamed: 2457 Unnamed: 2458  \\\n",
       "0              NaN           NaN           NaN           NaN           NaN   \n",
       "1              NaN           NaN           NaN           NaN           NaN   \n",
       "2              NaN           NaN           NaN           NaN           NaN   \n",
       "3              NaN           NaN           NaN           NaN           NaN   \n",
       "4              NaN           NaN           NaN           NaN           NaN   \n",
       "...            ...           ...           ...           ...           ...   \n",
       "3316           NaN           NaN           NaN           NaN           NaN   \n",
       "3317           NaN           NaN           NaN           NaN           NaN   \n",
       "3318           NaN           NaN           NaN           NaN           NaN   \n",
       "3319           NaN           NaN           NaN           NaN           NaN   \n",
       "3320           NaN           NaN           NaN           NaN           NaN   \n",
       "\n",
       "     Unnamed: 2459 Unnamed: 2460 Unnamed: 2461 Unnamed: 2462  \n",
       "0              NaN           NaN           NaN           NaN  \n",
       "1              NaN           NaN           NaN           NaN  \n",
       "2              NaN           NaN           NaN           NaN  \n",
       "3              NaN           NaN           NaN           NaN  \n",
       "4              NaN           NaN           NaN           NaN  \n",
       "...            ...           ...           ...           ...  \n",
       "3316           NaN           NaN           NaN           NaN  \n",
       "3317           NaN           NaN           NaN           NaN  \n",
       "3318           NaN           NaN           NaN           NaN  \n",
       "3319           NaN           NaN           NaN           NaN  \n",
       "3320           NaN           NaN           NaN           NaN  \n",
       "\n",
       "[3321 rows x 2463 columns]"
      ]
     },
     "execution_count": 30,
     "metadata": {},
     "output_type": "execute_result"
    }
   ],
   "source": [
    "df"
   ]
  },
  {
   "cell_type": "code",
   "execution_count": 31,
   "metadata": {},
   "outputs": [],
   "source": [
    "data_text=df.loc[:,'ID,Text']"
   ]
  },
  {
   "cell_type": "code",
   "execution_count": 32,
   "metadata": {},
   "outputs": [],
   "source": [
    "data_text=pd.DataFrame(data_text)"
   ]
  },
  {
   "cell_type": "code",
   "execution_count": 33,
   "metadata": {},
   "outputs": [
    {
     "data": {
      "text/html": [
       "<div>\n",
       "<style scoped>\n",
       "    .dataframe tbody tr th:only-of-type {\n",
       "        vertical-align: middle;\n",
       "    }\n",
       "\n",
       "    .dataframe tbody tr th {\n",
       "        vertical-align: top;\n",
       "    }\n",
       "\n",
       "    .dataframe thead th {\n",
       "        text-align: right;\n",
       "    }\n",
       "</style>\n",
       "<table border=\"1\" class=\"dataframe\">\n",
       "  <thead>\n",
       "    <tr style=\"text-align: right;\">\n",
       "      <th></th>\n",
       "      <th>ID,Text</th>\n",
       "    </tr>\n",
       "  </thead>\n",
       "  <tbody>\n",
       "    <tr>\n",
       "      <th>0</th>\n",
       "      <td>0||Cyclin-dependent kinases (CDKs) regulate a ...</td>\n",
       "    </tr>\n",
       "    <tr>\n",
       "      <th>1</th>\n",
       "      <td>1|| Abstract Background  Non-small cell lung c...</td>\n",
       "    </tr>\n",
       "    <tr>\n",
       "      <th>2</th>\n",
       "      <td>2|| Abstract Background  Non-small cell lung c...</td>\n",
       "    </tr>\n",
       "    <tr>\n",
       "      <th>3</th>\n",
       "      <td>3||Recent evidence has demonstrated that acqui...</td>\n",
       "    </tr>\n",
       "    <tr>\n",
       "      <th>4</th>\n",
       "      <td>4||Oncogenic mutations in the monomeric Casita...</td>\n",
       "    </tr>\n",
       "    <tr>\n",
       "      <th>...</th>\n",
       "      <td>...</td>\n",
       "    </tr>\n",
       "    <tr>\n",
       "      <th>3316</th>\n",
       "      <td>3316||Introduction  Myelodysplastic syndromes ...</td>\n",
       "    </tr>\n",
       "    <tr>\n",
       "      <th>3317</th>\n",
       "      <td>3317||Introduction  Myelodysplastic syndromes ...</td>\n",
       "    </tr>\n",
       "    <tr>\n",
       "      <th>3318</th>\n",
       "      <td>3318||The Runt-related transcription factor 1 ...</td>\n",
       "    </tr>\n",
       "    <tr>\n",
       "      <th>3319</th>\n",
       "      <td>3319||The RUNX1/AML1 gene is the most frequent...</td>\n",
       "    </tr>\n",
       "    <tr>\n",
       "      <th>3320</th>\n",
       "      <td>3320||The most frequent mutations associated w...</td>\n",
       "    </tr>\n",
       "  </tbody>\n",
       "</table>\n",
       "<p>3321 rows × 1 columns</p>\n",
       "</div>"
      ],
      "text/plain": [
       "                                                ID,Text\n",
       "0     0||Cyclin-dependent kinases (CDKs) regulate a ...\n",
       "1     1|| Abstract Background  Non-small cell lung c...\n",
       "2     2|| Abstract Background  Non-small cell lung c...\n",
       "3     3||Recent evidence has demonstrated that acqui...\n",
       "4     4||Oncogenic mutations in the monomeric Casita...\n",
       "...                                                 ...\n",
       "3316  3316||Introduction  Myelodysplastic syndromes ...\n",
       "3317  3317||Introduction  Myelodysplastic syndromes ...\n",
       "3318  3318||The Runt-related transcription factor 1 ...\n",
       "3319  3319||The RUNX1/AML1 gene is the most frequent...\n",
       "3320  3320||The most frequent mutations associated w...\n",
       "\n",
       "[3321 rows x 1 columns]"
      ]
     },
     "execution_count": 33,
     "metadata": {},
     "output_type": "execute_result"
    }
   ],
   "source": [
    "data_text"
   ]
  },
  {
   "cell_type": "code",
   "execution_count": 36,
   "metadata": {},
   "outputs": [],
   "source": [
    "data_text[['ID', 'TEXT']] = data_text[\"ID,Text\"].apply(lambda x: pd.Series(str(x).split(\"||\")))\n"
   ]
  },
  {
   "cell_type": "code",
   "execution_count": 38,
   "metadata": {},
   "outputs": [],
   "source": [
    "data_text.drop('ID,Text',axis='columns',inplace=True)"
   ]
  },
  {
   "cell_type": "code",
   "execution_count": 39,
   "metadata": {},
   "outputs": [
    {
     "data": {
      "text/html": [
       "<div>\n",
       "<style scoped>\n",
       "    .dataframe tbody tr th:only-of-type {\n",
       "        vertical-align: middle;\n",
       "    }\n",
       "\n",
       "    .dataframe tbody tr th {\n",
       "        vertical-align: top;\n",
       "    }\n",
       "\n",
       "    .dataframe thead th {\n",
       "        text-align: right;\n",
       "    }\n",
       "</style>\n",
       "<table border=\"1\" class=\"dataframe\">\n",
       "  <thead>\n",
       "    <tr style=\"text-align: right;\">\n",
       "      <th></th>\n",
       "      <th>ID</th>\n",
       "      <th>TEXT</th>\n",
       "    </tr>\n",
       "  </thead>\n",
       "  <tbody>\n",
       "    <tr>\n",
       "      <th>0</th>\n",
       "      <td>0</td>\n",
       "      <td>Cyclin-dependent kinases (CDKs) regulate a var...</td>\n",
       "    </tr>\n",
       "    <tr>\n",
       "      <th>1</th>\n",
       "      <td>1</td>\n",
       "      <td>Abstract Background  Non-small cell lung canc...</td>\n",
       "    </tr>\n",
       "    <tr>\n",
       "      <th>2</th>\n",
       "      <td>2</td>\n",
       "      <td>Abstract Background  Non-small cell lung canc...</td>\n",
       "    </tr>\n",
       "    <tr>\n",
       "      <th>3</th>\n",
       "      <td>3</td>\n",
       "      <td>Recent evidence has demonstrated that acquired...</td>\n",
       "    </tr>\n",
       "    <tr>\n",
       "      <th>4</th>\n",
       "      <td>4</td>\n",
       "      <td>Oncogenic mutations in the monomeric Casitas B...</td>\n",
       "    </tr>\n",
       "    <tr>\n",
       "      <th>...</th>\n",
       "      <td>...</td>\n",
       "      <td>...</td>\n",
       "    </tr>\n",
       "    <tr>\n",
       "      <th>3316</th>\n",
       "      <td>3316</td>\n",
       "      <td>Introduction  Myelodysplastic syndromes (MDS) ...</td>\n",
       "    </tr>\n",
       "    <tr>\n",
       "      <th>3317</th>\n",
       "      <td>3317</td>\n",
       "      <td>Introduction  Myelodysplastic syndromes (MDS) ...</td>\n",
       "    </tr>\n",
       "    <tr>\n",
       "      <th>3318</th>\n",
       "      <td>3318</td>\n",
       "      <td>The Runt-related transcription factor 1 gene (...</td>\n",
       "    </tr>\n",
       "    <tr>\n",
       "      <th>3319</th>\n",
       "      <td>3319</td>\n",
       "      <td>The RUNX1/AML1 gene is the most frequent targe...</td>\n",
       "    </tr>\n",
       "    <tr>\n",
       "      <th>3320</th>\n",
       "      <td>3320</td>\n",
       "      <td>The most frequent mutations associated with le...</td>\n",
       "    </tr>\n",
       "  </tbody>\n",
       "</table>\n",
       "<p>3321 rows × 2 columns</p>\n",
       "</div>"
      ],
      "text/plain": [
       "        ID                                               TEXT\n",
       "0        0  Cyclin-dependent kinases (CDKs) regulate a var...\n",
       "1        1   Abstract Background  Non-small cell lung canc...\n",
       "2        2   Abstract Background  Non-small cell lung canc...\n",
       "3        3  Recent evidence has demonstrated that acquired...\n",
       "4        4  Oncogenic mutations in the monomeric Casitas B...\n",
       "...    ...                                                ...\n",
       "3316  3316  Introduction  Myelodysplastic syndromes (MDS) ...\n",
       "3317  3317  Introduction  Myelodysplastic syndromes (MDS) ...\n",
       "3318  3318  The Runt-related transcription factor 1 gene (...\n",
       "3319  3319  The RUNX1/AML1 gene is the most frequent targe...\n",
       "3320  3320  The most frequent mutations associated with le...\n",
       "\n",
       "[3321 rows x 2 columns]"
      ]
     },
     "execution_count": 39,
     "metadata": {},
     "output_type": "execute_result"
    }
   ],
   "source": [
    "data_text"
   ]
  },
  {
   "cell_type": "code",
   "execution_count": 40,
   "metadata": {},
   "outputs": [],
   "source": [
    "from sklearn.feature_extraction.text import CountVectorizer"
   ]
  },
  {
   "cell_type": "code",
   "execution_count": 42,
   "metadata": {},
   "outputs": [],
   "source": [
    "gene_vectorizer=CountVectorizer()"
   ]
  },
  {
   "cell_type": "code",
   "execution_count": null,
   "metadata": {},
   "outputs": [],
   "source": []
  },
  {
   "cell_type": "code",
   "execution_count": 4,
   "metadata": {},
   "outputs": [],
   "source": [
    "data=pd.read_csv('training_variants.csv')"
   ]
  },
  {
   "cell_type": "code",
   "execution_count": 49,
   "metadata": {},
   "outputs": [
    {
     "data": {
      "text/html": [
       "<div>\n",
       "<style scoped>\n",
       "    .dataframe tbody tr th:only-of-type {\n",
       "        vertical-align: middle;\n",
       "    }\n",
       "\n",
       "    .dataframe tbody tr th {\n",
       "        vertical-align: top;\n",
       "    }\n",
       "\n",
       "    .dataframe thead th {\n",
       "        text-align: right;\n",
       "    }\n",
       "</style>\n",
       "<table border=\"1\" class=\"dataframe\">\n",
       "  <thead>\n",
       "    <tr style=\"text-align: right;\">\n",
       "      <th></th>\n",
       "      <th>ID</th>\n",
       "      <th>Gene</th>\n",
       "      <th>Variation</th>\n",
       "      <th>Class</th>\n",
       "    </tr>\n",
       "  </thead>\n",
       "  <tbody>\n",
       "    <tr>\n",
       "      <th>0</th>\n",
       "      <td>0</td>\n",
       "      <td>FAM58A</td>\n",
       "      <td>Truncating Mutations</td>\n",
       "      <td>1</td>\n",
       "    </tr>\n",
       "    <tr>\n",
       "      <th>1</th>\n",
       "      <td>1</td>\n",
       "      <td>CBL</td>\n",
       "      <td>W802*</td>\n",
       "      <td>2</td>\n",
       "    </tr>\n",
       "    <tr>\n",
       "      <th>2</th>\n",
       "      <td>2</td>\n",
       "      <td>CBL</td>\n",
       "      <td>Q249E</td>\n",
       "      <td>2</td>\n",
       "    </tr>\n",
       "    <tr>\n",
       "      <th>3</th>\n",
       "      <td>3</td>\n",
       "      <td>CBL</td>\n",
       "      <td>N454D</td>\n",
       "      <td>3</td>\n",
       "    </tr>\n",
       "    <tr>\n",
       "      <th>4</th>\n",
       "      <td>4</td>\n",
       "      <td>CBL</td>\n",
       "      <td>L399V</td>\n",
       "      <td>4</td>\n",
       "    </tr>\n",
       "  </tbody>\n",
       "</table>\n",
       "</div>"
      ],
      "text/plain": [
       "   ID    Gene             Variation  Class\n",
       "0   0  FAM58A  Truncating Mutations      1\n",
       "1   1     CBL                 W802*      2\n",
       "2   2     CBL                 Q249E      2\n",
       "3   3     CBL                 N454D      3\n",
       "4   4     CBL                 L399V      4"
      ]
     },
     "execution_count": 49,
     "metadata": {},
     "output_type": "execute_result"
    }
   ],
   "source": [
    "data.head()"
   ]
  },
  {
   "cell_type": "code",
   "execution_count": 59,
   "metadata": {},
   "outputs": [
    {
     "name": "stdout",
     "output_type": "stream",
     "text": [
      "ID      object\n",
      "TEXT    object\n",
      "dtype: object\n",
      "**************************************************\n",
      "ID            int64\n",
      "Gene         object\n",
      "Variation    object\n",
      "Class         int64\n",
      "dtype: object\n"
     ]
    }
   ],
   "source": [
    "print(data_text.dtypes)\n",
    "print(50*'*')\n",
    "print(data.dtypes)"
   ]
  },
  {
   "cell_type": "code",
   "execution_count": 8,
   "metadata": {},
   "outputs": [
    {
     "data": {
      "image/png": "[encoded data removed]",
      "text/plain": [
       "<Figure size 432x288 with 1 Axes>"
      ]
     },
     "metadata": {
      "needs_background": "light"
     },
     "output_type": "display_data"
    }
   ],
   "source": [
    "import matplotlib.pyplot as plt\n",
    "fig=plt.figure()\n",
    "ax = fig.add_subplot(1,1,1)\n",
    "ax.hist(data['Class'],bins = 5)\n",
    "plt.title('Class distribution')\n",
    "plt.xlabel('Class')\n",
    "\n",
    "plt.show()"
   ]
  },
  {
   "cell_type": "code",
   "execution_count": 13,
   "metadata": {},
   "outputs": [
    {
     "data": {
      "text/plain": [
       "<AxesSubplot:xlabel='Variation', ylabel='Class'>"
      ]
     },
     "execution_count": 13,
     "metadata": {},
     "output_type": "execute_result"
    },
    {
     "data": {
      "image/png": "[encoded data removed]",
      "text/plain": [
       "<Figure size 432x288 with 1 Axes>"
      ]
     },
     "metadata": {
      "needs_background": "light"
     },
     "output_type": "display_data"
    }
   ],
   "source": [
    "import seaborn as sns\n",
    "sns.barplot(x = 'Variation',\n",
    "            y='Class',\n",
    "            data = data)\n",
    " "
   ]
  },
  {
   "cell_type": "code",
   "execution_count": 61,
   "metadata": {},
   "outputs": [],
   "source": [
    "convert_dict={'ID':int}\n"
   ]
  },
  {
   "cell_type": "code",
   "execution_count": 62,
   "metadata": {},
   "outputs": [
    {
     "name": "stdout",
     "output_type": "stream",
     "text": [
      "ID       int32\n",
      "TEXT    object\n",
      "dtype: object\n"
     ]
    }
   ],
   "source": [
    "data_text=data_text.astype(convert_dict)\n",
    "print(data_text.dtypes)"
   ]
  },
  {
   "cell_type": "code",
   "execution_count": 63,
   "metadata": {},
   "outputs": [],
   "source": [
    "result=pd.merge(data,data_text,on='ID',how='left')"
   ]
  },
  {
   "cell_type": "code",
   "execution_count": 64,
   "metadata": {},
   "outputs": [
    {
     "data": {
      "text/html": [
       "<div>\n",
       "<style scoped>\n",
       "    .dataframe tbody tr th:only-of-type {\n",
       "        vertical-align: middle;\n",
       "    }\n",
       "\n",
       "    .dataframe tbody tr th {\n",
       "        vertical-align: top;\n",
       "    }\n",
       "\n",
       "    .dataframe thead th {\n",
       "        text-align: right;\n",
       "    }\n",
       "</style>\n",
       "<table border=\"1\" class=\"dataframe\">\n",
       "  <thead>\n",
       "    <tr style=\"text-align: right;\">\n",
       "      <th></th>\n",
       "      <th>ID</th>\n",
       "      <th>Gene</th>\n",
       "      <th>Variation</th>\n",
       "      <th>Class</th>\n",
       "      <th>TEXT</th>\n",
       "    </tr>\n",
       "  </thead>\n",
       "  <tbody>\n",
       "    <tr>\n",
       "      <th>0</th>\n",
       "      <td>0</td>\n",
       "      <td>FAM58A</td>\n",
       "      <td>Truncating Mutations</td>\n",
       "      <td>1</td>\n",
       "      <td>Cyclin-dependent kinases (CDKs) regulate a var...</td>\n",
       "    </tr>\n",
       "    <tr>\n",
       "      <th>1</th>\n",
       "      <td>1</td>\n",
       "      <td>CBL</td>\n",
       "      <td>W802*</td>\n",
       "      <td>2</td>\n",
       "      <td>Abstract Background  Non-small cell lung canc...</td>\n",
       "    </tr>\n",
       "    <tr>\n",
       "      <th>2</th>\n",
       "      <td>2</td>\n",
       "      <td>CBL</td>\n",
       "      <td>Q249E</td>\n",
       "      <td>2</td>\n",
       "      <td>Abstract Background  Non-small cell lung canc...</td>\n",
       "    </tr>\n",
       "    <tr>\n",
       "      <th>3</th>\n",
       "      <td>3</td>\n",
       "      <td>CBL</td>\n",
       "      <td>N454D</td>\n",
       "      <td>3</td>\n",
       "      <td>Recent evidence has demonstrated that acquired...</td>\n",
       "    </tr>\n",
       "    <tr>\n",
       "      <th>4</th>\n",
       "      <td>4</td>\n",
       "      <td>CBL</td>\n",
       "      <td>L399V</td>\n",
       "      <td>4</td>\n",
       "      <td>Oncogenic mutations in the monomeric Casitas B...</td>\n",
       "    </tr>\n",
       "    <tr>\n",
       "      <th>...</th>\n",
       "      <td>...</td>\n",
       "      <td>...</td>\n",
       "      <td>...</td>\n",
       "      <td>...</td>\n",
       "      <td>...</td>\n",
       "    </tr>\n",
       "    <tr>\n",
       "      <th>3316</th>\n",
       "      <td>3316</td>\n",
       "      <td>RUNX1</td>\n",
       "      <td>D171N</td>\n",
       "      <td>4</td>\n",
       "      <td>Introduction  Myelodysplastic syndromes (MDS) ...</td>\n",
       "    </tr>\n",
       "    <tr>\n",
       "      <th>3317</th>\n",
       "      <td>3317</td>\n",
       "      <td>RUNX1</td>\n",
       "      <td>A122*</td>\n",
       "      <td>1</td>\n",
       "      <td>Introduction  Myelodysplastic syndromes (MDS) ...</td>\n",
       "    </tr>\n",
       "    <tr>\n",
       "      <th>3318</th>\n",
       "      <td>3318</td>\n",
       "      <td>RUNX1</td>\n",
       "      <td>Fusions</td>\n",
       "      <td>1</td>\n",
       "      <td>The Runt-related transcription factor 1 gene (...</td>\n",
       "    </tr>\n",
       "    <tr>\n",
       "      <th>3319</th>\n",
       "      <td>3319</td>\n",
       "      <td>RUNX1</td>\n",
       "      <td>R80C</td>\n",
       "      <td>4</td>\n",
       "      <td>The RUNX1/AML1 gene is the most frequent targe...</td>\n",
       "    </tr>\n",
       "    <tr>\n",
       "      <th>3320</th>\n",
       "      <td>3320</td>\n",
       "      <td>RUNX1</td>\n",
       "      <td>K83E</td>\n",
       "      <td>4</td>\n",
       "      <td>The most frequent mutations associated with le...</td>\n",
       "    </tr>\n",
       "  </tbody>\n",
       "</table>\n",
       "<p>3321 rows × 5 columns</p>\n",
       "</div>"
      ],
      "text/plain": [
       "        ID    Gene             Variation  Class  \\\n",
       "0        0  FAM58A  Truncating Mutations      1   \n",
       "1        1     CBL                 W802*      2   \n",
       "2        2     CBL                 Q249E      2   \n",
       "3        3     CBL                 N454D      3   \n",
       "4        4     CBL                 L399V      4   \n",
       "...    ...     ...                   ...    ...   \n",
       "3316  3316   RUNX1                 D171N      4   \n",
       "3317  3317   RUNX1                 A122*      1   \n",
       "3318  3318   RUNX1               Fusions      1   \n",
       "3319  3319   RUNX1                  R80C      4   \n",
       "3320  3320   RUNX1                  K83E      4   \n",
       "\n",
       "                                                   TEXT  \n",
       "0     Cyclin-dependent kinases (CDKs) regulate a var...  \n",
       "1      Abstract Background  Non-small cell lung canc...  \n",
       "2      Abstract Background  Non-small cell lung canc...  \n",
       "3     Recent evidence has demonstrated that acquired...  \n",
       "4     Oncogenic mutations in the monomeric Casitas B...  \n",
       "...                                                 ...  \n",
       "3316  Introduction  Myelodysplastic syndromes (MDS) ...  \n",
       "3317  Introduction  Myelodysplastic syndromes (MDS) ...  \n",
       "3318  The Runt-related transcription factor 1 gene (...  \n",
       "3319  The RUNX1/AML1 gene is the most frequent targe...  \n",
       "3320  The most frequent mutations associated with le...  \n",
       "\n",
       "[3321 rows x 5 columns]"
      ]
     },
     "execution_count": 64,
     "metadata": {},
     "output_type": "execute_result"
    }
   ],
   "source": [
    "result"
   ]
  },
  {
   "cell_type": "code",
   "execution_count": 65,
   "metadata": {},
   "outputs": [],
   "source": [
    "from sklearn.model_selection import train_test_split"
   ]
  },
  {
   "cell_type": "code",
   "execution_count": 66,
   "metadata": {},
   "outputs": [],
   "source": [
    "val_new,test_df=train_test_split(result,test_size=0.2,random_state=42,stratify=result['Class'])"
   ]
  },
  {
   "cell_type": "code",
   "execution_count": 67,
   "metadata": {},
   "outputs": [],
   "source": [
    "train_df,val_df=train_test_split(val_new,test_size=0.2,random_state=42,stratify=val_new['Class'])"
   ]
  },
  {
   "cell_type": "code",
   "execution_count": 68,
   "metadata": {},
   "outputs": [],
   "source": [
    "a=list(result.columns)"
   ]
  },
  {
   "cell_type": "code",
   "execution_count": 69,
   "metadata": {},
   "outputs": [],
   "source": [
    "a.remove('Class')"
   ]
  },
  {
   "cell_type": "code",
   "execution_count": 70,
   "metadata": {},
   "outputs": [],
   "source": [
    "input_cols=a"
   ]
  },
  {
   "cell_type": "code",
   "execution_count": 71,
   "metadata": {},
   "outputs": [],
   "source": [
    "target_col='Class'"
   ]
  },
  {
   "cell_type": "code",
   "execution_count": 72,
   "metadata": {},
   "outputs": [
    {
     "name": "stdout",
     "output_type": "stream",
     "text": [
      "['ID', 'Gene', 'Variation', 'TEXT']\n",
      "Class\n"
     ]
    }
   ],
   "source": [
    "print(input_cols)\n",
    "print(target_col)"
   ]
  },
  {
   "cell_type": "code",
   "execution_count": 73,
   "metadata": {},
   "outputs": [],
   "source": [
    "train_inputs=train_df[input_cols]\n",
    "train_target=train_df[target_col]"
   ]
  },
  {
   "cell_type": "code",
   "execution_count": 74,
   "metadata": {},
   "outputs": [],
   "source": [
    "val_inputs=val_df[input_cols]\n",
    "val_target=val_df[target_col]"
   ]
  },
  {
   "cell_type": "code",
   "execution_count": 79,
   "metadata": {},
   "outputs": [],
   "source": [
    "test_inputs=test_df[input_cols]\n",
    "test_target=test_df[target_col]"
   ]
  },
  {
   "cell_type": "code",
   "execution_count": 80,
   "metadata": {},
   "outputs": [
    {
     "name": "stdout",
     "output_type": "stream",
     "text": [
      "(2124, 4)\n",
      "(2124,)\n",
      "********************************************************************************************************************************************************************************************************\n",
      "(532, 4)\n",
      "(532,)\n",
      "********************************************************************************************************************************************************************************************************\n",
      "(665, 4)\n",
      "(665, 4)\n"
     ]
    }
   ],
   "source": [
    "print(train_inputs.shape)\n",
    "print(train_target.shape)\n",
    "\n",
    "print(200 * '*')\n",
    "\n",
    "print(val_inputs.shape)\n",
    "print(val_target.shape)\n",
    "\n",
    "print(200 * '*')\n",
    "\n",
    "print(test_inputs.shape)\n",
    "print(test_inputs.shape)"
   ]
  },
  {
   "cell_type": "code",
   "execution_count": 81,
   "metadata": {},
   "outputs": [
    {
     "data": {
      "text/plain": [
       "CountVectorizer()"
      ]
     },
     "execution_count": 81,
     "metadata": {},
     "output_type": "execute_result"
    }
   ],
   "source": [
    "gene_vectorizer"
   ]
  },
  {
   "cell_type": "code",
   "execution_count": 82,
   "metadata": {},
   "outputs": [],
   "source": [
    "#gene"
   ]
  },
  {
   "cell_type": "code",
   "execution_count": 83,
   "metadata": {},
   "outputs": [],
   "source": [
    "train_gene_onehotencoding=gene_vectorizer.fit_transform(train_inputs['Gene'])"
   ]
  },
  {
   "cell_type": "code",
   "execution_count": 84,
   "metadata": {},
   "outputs": [],
   "source": [
    "val_gene_onehotencoding=gene_vectorizer.transform(val_inputs['Gene'])"
   ]
  },
  {
   "cell_type": "code",
   "execution_count": 86,
   "metadata": {},
   "outputs": [],
   "source": [
    "test_gene_onehotencoding=gene_vectorizer.transform(test_inputs['Gene'])"
   ]
  },
  {
   "cell_type": "code",
   "execution_count": 92,
   "metadata": {},
   "outputs": [
    {
     "data": {
      "text/plain": [
       "236"
      ]
     },
     "execution_count": 92,
     "metadata": {},
     "output_type": "execute_result"
    }
   ],
   "source": [
    "len(gene_vectorizer.get_feature_names())"
   ]
  },
  {
   "cell_type": "code",
   "execution_count": 94,
   "metadata": {},
   "outputs": [
    {
     "data": {
      "text/plain": [
       "236"
      ]
     },
     "execution_count": 94,
     "metadata": {},
     "output_type": "execute_result"
    }
   ],
   "source": [
    "len(train_inputs['Gene'].unique())"
   ]
  },
  {
   "cell_type": "code",
   "execution_count": 95,
   "metadata": {},
   "outputs": [],
   "source": [
    "alpha=[10 ** i for i in range(-5,1)]"
   ]
  },
  {
   "cell_type": "code",
   "execution_count": 103,
   "metadata": {},
   "outputs": [],
   "source": [
    "from sklearn.metrics import log_loss\n",
    "from sklearn.linear_model import SGDClassifier\n",
    "from sklearn.calibration import CalibratedClassifierCV\n",
    "import matplotlib.pyplot as plt"
   ]
  },
  {
   "cell_type": "code",
   "execution_count": 101,
   "metadata": {},
   "outputs": [
    {
     "name": "stdout",
     "output_type": "stream",
     "text": [
      "For values of alpha =  1e-05 The log loss is: 1.1897974843066177\n",
      "For values of alpha =  0.0001 The log loss is: 1.1649615591529432\n",
      "For values of alpha =  0.001 The log loss is: 1.1993973311277482\n",
      "For values of alpha =  0.01 The log loss is: 1.3298530713185475\n",
      "For values of alpha =  0.1 The log loss is: 1.4398064840944016\n",
      "For values of alpha =  1 The log loss is: 1.4732418191604977\n"
     ]
    }
   ],
   "source": [
    "cv_log_error_array=[]\n",
    "for i in alpha:\n",
    "    clf = SGDClassifier(alpha=i, penalty='l2', loss='log', random_state=42)\n",
    "    clf.fit(train_gene_onehotencoding, train_target)\n",
    "    sig_clf = CalibratedClassifierCV(clf, method=\"sigmoid\")\n",
    "    sig_clf.fit(train_gene_onehotencoding, train_target)\n",
    "    predict_y = sig_clf.predict_proba(val_gene_onehotencoding)\n",
    "    cv_log_error_array.append(log_loss(val_target, predict_y, labels=clf.classes_, eps=1e-15))\n",
    "    print('For values of alpha = ', i, \"The log loss is:\",log_loss(val_target, predict_y, labels=clf.classes_, eps=1e-15))\n"
   ]
  },
  {
   "cell_type": "code",
   "execution_count": 123,
   "metadata": {},
   "outputs": [],
   "source": [
    "predict_y=sig_clf.predict_proba(train_gene_onehotencoding)\n",
    "\n",
    "\n"
   ]
  },
  {
   "cell_type": "code",
   "execution_count": 126,
   "metadata": {},
   "outputs": [
    {
     "name": "stdout",
     "output_type": "stream",
     "text": [
      "1.4292306875886802\n"
     ]
    }
   ],
   "source": [
    "a=log_loss(train_target,predict_y)\n",
    "print(a)"
   ]
  },
  {
   "cell_type": "code",
   "execution_count": 127,
   "metadata": {},
   "outputs": [
    {
     "name": "stdout",
     "output_type": "stream",
     "text": [
      "validation loss : 1.4732418191604977\n"
     ]
    }
   ],
   "source": [
    "\n",
    "\n",
    "predict_y=sig_clf.predict_proba(val_gene_onehotencoding)\n",
    "b=log_loss(val_target,predict_y)\n",
    "print('validation loss :',b)"
   ]
  },
  {
   "cell_type": "code",
   "execution_count": 129,
   "metadata": {},
   "outputs": [
    {
     "name": "stdout",
     "output_type": "stream",
     "text": [
      "Test loss :  1.4871288711059125\n"
     ]
    }
   ],
   "source": [
    "predict_y=sig_clf.predict_proba(test_gene_onehotencoding)\n",
    "c=log_loss(test_target,predict_y)\n",
    "print('Test loss : ',c)"
   ]
  },
  {
   "cell_type": "code",
   "execution_count": 104,
   "metadata": {},
   "outputs": [
    {
     "data": {
      "text/plain": [
       "[<matplotlib.lines.Line2D at 0x210ce11d460>]"
      ]
     },
     "execution_count": 104,
     "metadata": {},
     "output_type": "execute_result"
    },
    {
     "data": {
      "image/png": "[encoded data removed]",
      "text/plain": [
       "<Figure size 432x288 with 1 Axes>"
      ]
     },
     "metadata": {
      "needs_background": "light"
     },
     "output_type": "display_data"
    }
   ],
   "source": [
    "fig, ax = plt.subplots()\n",
    "ax.plot(alpha, cv_log_error_array,c='g')"
   ]
  },
  {
   "cell_type": "code",
   "execution_count": 107,
   "metadata": {},
   "outputs": [
    {
     "data": {
      "image/png": "[encoded data removed]",
      "text/plain": [
       "<Figure size 432x288 with 1 Axes>"
      ]
     },
     "metadata": {
      "needs_background": "light"
     },
     "output_type": "display_data"
    }
   ],
   "source": [
    "fig, ax = plt.subplots()\n",
    "ax.plot(alpha, cv_log_error_array,c='g')\n",
    "for i, txt in enumerate(np.round(cv_log_error_array,3)):\n",
    "    ax.annotate((alpha[i],np.round(txt,3)), (alpha[i],cv_log_error_array[i]))"
   ]
  },
  {
   "cell_type": "code",
   "execution_count": 118,
   "metadata": {},
   "outputs": [],
   "source": [
    "#variati"
   ]
  },
  {
   "cell_type": "code",
   "execution_count": 116,
   "metadata": {},
   "outputs": [],
   "source": [
    "variation_vectorizer=CountVectorizer()"
   ]
  },
  {
   "cell_type": "code",
   "execution_count": 119,
   "metadata": {},
   "outputs": [],
   "source": [
    "train_variation_feature_onehotCoding = variation_vectorizer.fit_transform(train_inputs['Variation'])"
   ]
  },
  {
   "cell_type": "code",
   "execution_count": 120,
   "metadata": {},
   "outputs": [],
   "source": [
    "test_variation_feature_onehotCoding = variation_vectorizer.transform(test_inputs['Variation'])\n",
    "val_variation_feature_onehotCoding = variation_vectorizer.transform(val_inputs['Variation'])"
   ]
  },
  {
   "cell_type": "code",
   "execution_count": 130,
   "metadata": {},
   "outputs": [],
   "source": [
    "alpha=[10 ** i for i in range(-5,1)]"
   ]
  },
  {
   "cell_type": "code",
   "execution_count": 131,
   "metadata": {},
   "outputs": [
    {
     "name": "stdout",
     "output_type": "stream",
     "text": [
      "for alpha : 1e-05 the log loss value for validation set is : 1.691004664444338\n",
      "for alpha : 0.0001 the log loss value for validation set is : 1.6788153285268979\n",
      "for alpha : 0.001 the log loss value for validation set is : 1.694257044519469\n",
      "for alpha : 0.01 the log loss value for validation set is : 1.6989272937967388\n",
      "for alpha : 0.1 the log loss value for validation set is : 1.7138857608751197\n",
      "for alpha : 1 the log loss value for validation set is : 1.7165579526066352\n"
     ]
    }
   ],
   "source": [
    "for i in alpha:\n",
    "    clf=SGDClassifier(alpha=i,penalty='l2',loss='log',random_state=42)\n",
    "    clf.fit(train_variation_feature_onehotCoding,train_target)\n",
    "    sig_clf=CalibratedClassifierCV(clf,method='sigmoid')\n",
    "    sig_clf.fit(train_variation_feature_onehotCoding,train_target)\n",
    "    predict_y=sig_clf.predict_proba(val_variation_feature_onehotCoding)\n",
    "    print('for alpha :',i,'the log loss value for validation set is :',log_loss(val_target,predict_y,labels=clf.classes_,eps=1e-15))\n",
    "    \n",
    "    "
   ]
  },
  {
   "cell_type": "code",
   "execution_count": 132,
   "metadata": {},
   "outputs": [],
   "source": [
    "alpha=0.001"
   ]
  },
  {
   "cell_type": "code",
   "execution_count": 133,
   "metadata": {},
   "outputs": [
    {
     "name": "stdout",
     "output_type": "stream",
     "text": [
      "1.6712886976194006\n"
     ]
    }
   ],
   "source": [
    "predict_y=sig_clf.predict_proba(train_variation_feature_onehotCoding)\n",
    "a=log_loss(train_target,predict_y)\n",
    "print(a)"
   ]
  },
  {
   "cell_type": "code",
   "execution_count": 134,
   "metadata": {},
   "outputs": [
    {
     "name": "stdout",
     "output_type": "stream",
     "text": [
      "1.7165579526066352\n"
     ]
    }
   ],
   "source": [
    "predict_y=sig_clf.predict_proba(val_variation_feature_onehotCoding)\n",
    "a=log_loss(val_target,predict_y)\n",
    "print(a)"
   ]
  },
  {
   "cell_type": "code",
   "execution_count": 135,
   "metadata": {},
   "outputs": [
    {
     "name": "stdout",
     "output_type": "stream",
     "text": [
      "1.75083187736924\n"
     ]
    }
   ],
   "source": [
    "predict_y=sig_clf.predict_proba(test_variation_feature_onehotCoding)\n",
    "a=log_loss(test_target,predict_y)\n",
    "print(a)"
   ]
  },
  {
   "cell_type": "code",
   "execution_count": 136,
   "metadata": {},
   "outputs": [
    {
     "data": {
      "text/plain": [
       "(2124, 4)"
      ]
     },
     "execution_count": 136,
     "metadata": {},
     "output_type": "execute_result"
    }
   ],
   "source": [
    "train_inputs.shape"
   ]
  },
  {
   "cell_type": "code",
   "execution_count": 238,
   "metadata": {},
   "outputs": [],
   "source": [
    "from sklearn.metrics import confusion_matrix"
   ]
  },
  {
   "cell_type": "code",
   "execution_count": 239,
   "metadata": {},
   "outputs": [],
   "source": [
    "def plot_confusion_matrix(test_y, predict_y):\n",
    "    C = confusion_matrix(test_y, predict_y)\n",
    "    # C = 9,9 matrix, each cell (i,j) represents number of points of class i are predicted class j\n",
    "    \n",
    "    A =(((C.T)/(C.sum(axis=1))).T)\n",
    "    #divid each element of the confusion matrix with the sum of elements in that column\n",
    "    \n",
    "    # C = [[1, 2],\n",
    "    #     [3, 4]]\n",
    "    # C.T = [[1, 3],\n",
    "    #        [2, 4]]\n",
    "    # C.sum(axis = 1)  axis=0 corresonds to columns and axis=1 corresponds to rows in two diamensional array\n",
    "    # C.sum(axix =1) = [[3, 7]]\n",
    "    # ((C.T)/(C.sum(axis=1))) = [[1/3, 3/7]\n",
    "    #                           [2/3, 4/7]]\n",
    "\n",
    "    # ((C.T)/(C.sum(axis=1))).T = [[1/3, 2/3]\n",
    "    #                           [3/7, 4/7]]\n",
    "    # sum of row elements = 1\n",
    "    \n",
    "    B =(C/C.sum(axis=0))\n",
    "    \n",
    "    labels = [1,2,3,4,5,6,7,8,9]\n",
    "    \n",
    "    print(\"-\"*20, \"Confusion matrix\", \"-\"*20)\n",
    "    plt.figure(figsize=(20,7))\n",
    "    sns.heatmap(C, annot=True, cmap=\"YlGnBu\", fmt=\".3f\", xticklabels=labels, yticklabels=labels)\n",
    "    plt.xlabel('Predicted Class')\n",
    "    plt.ylabel('Original Class')\n",
    "    plt.show()\n",
    "\n",
    "    print(\"-\"*20, \"Precision matrix (Columm Sum=1)\", \"-\"*20)\n",
    "    plt.figure(figsize=(20,7))\n",
    "    sns.heatmap(B, annot=True, cmap=\"YlGnBu\", fmt=\".3f\", xticklabels=labels, yticklabels=labels)\n",
    "    plt.xlabel('Predicted Class')\n",
    "    plt.ylabel('Original Class')\n",
    "    plt.show()\n",
    "    \n",
    "    \n",
    "    print(\"-\"*20, \"Recall matrix (Row sum=1)\", \"-\"*20)\n",
    "    plt.figure(figsize=(20,7))\n",
    "    sns.heatmap(A, annot=True, cmap=\"YlGnBu\", fmt=\".3f\", xticklabels=labels, yticklabels=labels)\n",
    "    plt.xlabel('Predicted Class')\n",
    "    plt.ylabel('Original Class')\n",
    "    plt.show()\n",
    "    #divid each element of the confusion matrix with the sum of elements in that row"
   ]
  },
  {
   "cell_type": "code",
   "execution_count": 137,
   "metadata": {},
   "outputs": [
    {
     "data": {
      "text/plain": [
       "(665, 4)"
      ]
     },
     "execution_count": 137,
     "metadata": {},
     "output_type": "execute_result"
    }
   ],
   "source": [
    "test_inputs.shape"
   ]
  },
  {
   "cell_type": "code",
   "execution_count": 144,
   "metadata": {},
   "outputs": [],
   "source": [
    "test_cover=test_df[test_df['Variation'].isin(list(set(train_df['Variation'])))].shape[0]\n"
   ]
  },
  {
   "cell_type": "code",
   "execution_count": 155,
   "metadata": {},
   "outputs": [
    {
     "name": "stdout",
     "output_type": "stream",
     "text": [
      "619\n",
      "619\n",
      "619\n"
     ]
    }
   ],
   "source": [
    "print(len(test_inputs.Variation.unique()))\n",
    "print(len(list(set(test_inputs.Variation))))\n",
    "ab=len(list(set(test_inputs.Variation)))\n",
    "print(ab)"
   ]
  },
  {
   "cell_type": "code",
   "execution_count": 148,
   "metadata": {},
   "outputs": [],
   "source": [
    "test_coverage=test_inputs[test_inputs['Variation'].isin(list(set(train_inputs['Variation'])))].shape[0]"
   ]
  },
  {
   "cell_type": "code",
   "execution_count": 149,
   "metadata": {},
   "outputs": [],
   "source": [
    "val_coverage=val_inputs[val_inputs['Variation'].isin(list(set(train_inputs['Variation'])))].shape[0]"
   ]
  },
  {
   "cell_type": "code",
   "execution_count": 156,
   "metadata": {},
   "outputs": [
    {
     "name": "stdout",
     "output_type": "stream",
     "text": [
      "Out of 619 unique categories in variation in test data,There are 67 categories present in the train data\n"
     ]
    }
   ],
   "source": [
    "print('Out of',ab,'unique categories in variation in test data,There are',test_coverage,'categories present in the train data')"
   ]
  },
  {
   "cell_type": "code",
   "execution_count": 190,
   "metadata": {},
   "outputs": [],
   "source": [
    "text_vectorizer = CountVectorizer()\n",
    "train_text_feature_onehotCoding = text_vectorizer.fit_transform(train_inputs['TEXT'])\n",
    "# getting all the feature names (words)"
   ]
  },
  {
   "cell_type": "code",
   "execution_count": 191,
   "metadata": {},
   "outputs": [],
   "source": [
    "from sklearn.preprocessing import normalize"
   ]
  },
  {
   "cell_type": "code",
   "execution_count": 194,
   "metadata": {},
   "outputs": [],
   "source": [
    "train_text_feature_onehotCoding = normalize(train_text_feature_onehotCoding, axis=0)\n",
    "\n",
    "# we use the same vectorizer that was trained on train data\n",
    "test_text_feature_onehotCoding = text_vectorizer.transform(test_inputs['TEXT'])\n",
    "# don't forget to normalize every feature\n",
    "test_text_feature_onehotCoding = normalize(test_text_feature_onehotCoding, axis=0)\n",
    "\n",
    "# we use the same vectorizer that was trained on train data\n",
    "val_text_feature_onehotCoding = text_vectorizer.transform(val_inputs['TEXT'])\n",
    "# don't forget to normalize every feature\n",
    "val_text_feature_onehotCoding = normalize(val_text_feature_onehotCoding, axis=0)"
   ]
  },
  {
   "cell_type": "raw",
   "metadata": {},
   "source": [
    "train_text_feature_onehotCoding.shape"
   ]
  },
  {
   "cell_type": "code",
   "execution_count": 195,
   "metadata": {},
   "outputs": [
    {
     "data": {
      "text/plain": [
       "(2124, 38307)"
      ]
     },
     "execution_count": 195,
     "metadata": {},
     "output_type": "execute_result"
    }
   ],
   "source": [
    "train_text_feature_onehotCoding.shape"
   ]
  },
  {
   "cell_type": "code",
   "execution_count": 196,
   "metadata": {},
   "outputs": [
    {
     "name": "stdout",
     "output_type": "stream",
     "text": [
      "Total number of unique words in train data : 38307\n"
     ]
    }
   ],
   "source": [
    "train_text_features= text_vectorizer.get_feature_names()\n",
    "print(\"Total number of unique words in train data :\", len(train_text_features))"
   ]
  },
  {
   "cell_type": "code",
   "execution_count": 197,
   "metadata": {},
   "outputs": [],
   "source": [
    "alpha=[10 ** i for i in range(-5,1)]"
   ]
  },
  {
   "cell_type": "code",
   "execution_count": 198,
   "metadata": {},
   "outputs": [
    {
     "name": "stdout",
     "output_type": "stream",
     "text": [
      "For values of alpha =  1e-05 The log loss is: 1.43576760947782\n",
      "For values of alpha =  0.0001 The log loss is: 1.3073586569843396\n",
      "For values of alpha =  0.001 The log loss is: 1.4199179618461646\n",
      "For values of alpha =  0.01 The log loss is: 1.5486485013402504\n",
      "For values of alpha =  0.1 The log loss is: 1.7027574496337126\n",
      "For values of alpha =  1 The log loss is: 1.7785441251246517\n"
     ]
    }
   ],
   "source": [
    "cv_log_error_array=[]\n",
    "for i in alpha:\n",
    "    clf = SGDClassifier(alpha=i, penalty='l2', loss='log', random_state=42)\n",
    "    clf.fit(train_text_feature_onehotCoding, train_target)\n",
    "    \n",
    "    sig_clf = CalibratedClassifierCV(clf, method=\"sigmoid\")\n",
    "    sig_clf.fit(train_text_feature_onehotCoding, train_target)\n",
    "    predict_y = sig_clf.predict_proba(val_text_feature_onehotCoding)\n",
    "    cv_log_error_array.append(log_loss(val_target, predict_y, labels=clf.classes_, eps=1e-15))\n",
    "    print('For values of alpha = ', i, \"The log loss is:\",log_loss(val_target, predict_y, labels=clf.classes_, eps=1e-15))\n"
   ]
  },
  {
   "cell_type": "code",
   "execution_count": 199,
   "metadata": {},
   "outputs": [
    {
     "data": {
      "text/plain": [
       "CalibratedClassifierCV(base_estimator=SGDClassifier(loss='log',\n",
       "                                                    random_state=42))"
      ]
     },
     "execution_count": 199,
     "metadata": {},
     "output_type": "execute_result"
    }
   ],
   "source": [
    "clf = SGDClassifier(alpha=0.0001, penalty='l2', loss='log', random_state=42)\n",
    "clf.fit(train_text_feature_onehotCoding, train_target)\n",
    "    \n",
    "sig_clf = CalibratedClassifierCV(clf, method=\"sigmoid\")\n",
    "sig_clf.fit(train_text_feature_onehotCoding, train_target)"
   ]
  },
  {
   "cell_type": "code",
   "execution_count": 200,
   "metadata": {},
   "outputs": [
    {
     "name": "stdout",
     "output_type": "stream",
     "text": [
      "0.9281948298398244\n"
     ]
    }
   ],
   "source": [
    "predict_y=sig_clf.predict_proba(train_text_feature_onehotCoding)\n",
    "a=log_loss(train_target,predict_y)\n",
    "print(a)"
   ]
  },
  {
   "cell_type": "code",
   "execution_count": 201,
   "metadata": {},
   "outputs": [
    {
     "name": "stdout",
     "output_type": "stream",
     "text": [
      "1.3073586569843396\n"
     ]
    }
   ],
   "source": [
    "predict_y=sig_clf.predict_proba(val_text_feature_onehotCoding)\n",
    "a=log_loss(val_target,predict_y)\n",
    "print(a)"
   ]
  },
  {
   "cell_type": "code",
   "execution_count": 202,
   "metadata": {},
   "outputs": [
    {
     "name": "stdout",
     "output_type": "stream",
     "text": [
      "1.4323028401109104\n"
     ]
    }
   ],
   "source": [
    "predict_y=sig_clf.predict_proba(test_text_feature_onehotCoding)\n",
    "a=log_loss(test_target,predict_y)\n",
    "print(a)"
   ]
  },
  {
   "cell_type": "code",
   "execution_count": 203,
   "metadata": {},
   "outputs": [],
   "source": [
    "import numpy as np"
   ]
  },
  {
   "cell_type": "code",
   "execution_count": 225,
   "metadata": {},
   "outputs": [],
   "source": [
    "def predict_and_plot_confusion_matrix(train_inputs, train_target,test_inputs, test_target, clf):\n",
    "    clf.fit(train_inputs, train_target)\n",
    "    sig_clf = CalibratedClassifierCV(clf, method=\"sigmoid\")\n",
    "    sig_clf.fit(train_inputs, train_target)\n",
    "    pred_y = sig_clf.predict(test_inputs)\n",
    "\n",
    "    # for calculating log_loss we willl provide the array of probabilities belongs to each class\n",
    "    print(\"Log loss :\",log_loss(test_target, sig_clf.predict_proba(test_inputs)))\n",
    "    # calculating the number of data points that are misclassified\n",
    "    print(\"Number of mis-classified points :\", np.count_nonzero((pred_y- test_target))/test_inputs.shape[0])\n",
    "    plot_confusion_matrix(test_target, pred_y)"
   ]
  },
  {
   "cell_type": "code",
   "execution_count": 226,
   "metadata": {},
   "outputs": [],
   "source": [
    "def report_log_loss(train_inputs, train_target, test_inputs, test_target,  clf):\n",
    "    clf.fit(train_inputs, train_target)\n",
    "    sig_clf = CalibratedClassifierCV(clf, method=\"sigmoid\")\n",
    "    sig_clf.fit(train_inputs, train_target)\n",
    "    sig_clf_probs = sig_clf.predict_proba(test_inputs)\n",
    "    return log_loss(test_target, sig_clf_probs, eps=1e-15)"
   ]
  },
  {
   "cell_type": "code",
   "execution_count": 206,
   "metadata": {},
   "outputs": [],
   "source": [
    "from scipy.sparse import hstack"
   ]
  },
  {
   "cell_type": "code",
   "execution_count": 207,
   "metadata": {},
   "outputs": [
    {
     "data": {
      "text/html": [
       "<div>\n",
       "<style scoped>\n",
       "    .dataframe tbody tr th:only-of-type {\n",
       "        vertical-align: middle;\n",
       "    }\n",
       "\n",
       "    .dataframe tbody tr th {\n",
       "        vertical-align: top;\n",
       "    }\n",
       "\n",
       "    .dataframe thead th {\n",
       "        text-align: right;\n",
       "    }\n",
       "</style>\n",
       "<table border=\"1\" class=\"dataframe\">\n",
       "  <thead>\n",
       "    <tr style=\"text-align: right;\">\n",
       "      <th></th>\n",
       "      <th>ID</th>\n",
       "      <th>Gene</th>\n",
       "      <th>Variation</th>\n",
       "      <th>Class</th>\n",
       "      <th>TEXT</th>\n",
       "    </tr>\n",
       "  </thead>\n",
       "  <tbody>\n",
       "    <tr>\n",
       "      <th>988</th>\n",
       "      <td>988</td>\n",
       "      <td>ETV6</td>\n",
       "      <td>ETV6-NTRK3 Fusion</td>\n",
       "      <td>7</td>\n",
       "      <td>ETV6-NTRK3 (EN), a chimeric tyrosine kinase ge...</td>\n",
       "    </tr>\n",
       "    <tr>\n",
       "      <th>3319</th>\n",
       "      <td>3319</td>\n",
       "      <td>RUNX1</td>\n",
       "      <td>R80C</td>\n",
       "      <td>4</td>\n",
       "      <td>The RUNX1/AML1 gene is the most frequent targe...</td>\n",
       "    </tr>\n",
       "    <tr>\n",
       "      <th>528</th>\n",
       "      <td>528</td>\n",
       "      <td>TP53</td>\n",
       "      <td>L145R</td>\n",
       "      <td>4</td>\n",
       "      <td>Mutations in the p53 tumor suppressor are the ...</td>\n",
       "    </tr>\n",
       "    <tr>\n",
       "      <th>1520</th>\n",
       "      <td>1520</td>\n",
       "      <td>ALK</td>\n",
       "      <td>G1202R</td>\n",
       "      <td>7</td>\n",
       "      <td>Most anaplastic lymphoma kinase (ALK)–positive...</td>\n",
       "    </tr>\n",
       "    <tr>\n",
       "      <th>1787</th>\n",
       "      <td>1787</td>\n",
       "      <td>AR</td>\n",
       "      <td>A159T</td>\n",
       "      <td>1</td>\n",
       "      <td>Androgen receptor (AR) mutations are associate...</td>\n",
       "    </tr>\n",
       "    <tr>\n",
       "      <th>...</th>\n",
       "      <td>...</td>\n",
       "      <td>...</td>\n",
       "      <td>...</td>\n",
       "      <td>...</td>\n",
       "      <td>...</td>\n",
       "    </tr>\n",
       "    <tr>\n",
       "      <th>2369</th>\n",
       "      <td>2369</td>\n",
       "      <td>PTPN11</td>\n",
       "      <td>D61Y</td>\n",
       "      <td>7</td>\n",
       "      <td>Noonan syndrome (NS) is characterized by short...</td>\n",
       "    </tr>\n",
       "    <tr>\n",
       "      <th>1615</th>\n",
       "      <td>1615</td>\n",
       "      <td>VHL</td>\n",
       "      <td>L188V</td>\n",
       "      <td>1</td>\n",
       "      <td>The von Hippel-Lindau tumor suppressor protein...</td>\n",
       "    </tr>\n",
       "    <tr>\n",
       "      <th>1867</th>\n",
       "      <td>1867</td>\n",
       "      <td>MTOR</td>\n",
       "      <td>E2419K</td>\n",
       "      <td>7</td>\n",
       "      <td>Understanding the genetic mechanisms of sensit...</td>\n",
       "    </tr>\n",
       "    <tr>\n",
       "      <th>1426</th>\n",
       "      <td>1426</td>\n",
       "      <td>FGFR3</td>\n",
       "      <td>K650N</td>\n",
       "      <td>2</td>\n",
       "      <td>Introduction Hypochondroplasia (MIM 146000) is...</td>\n",
       "    </tr>\n",
       "    <tr>\n",
       "      <th>3112</th>\n",
       "      <td>3112</td>\n",
       "      <td>RAD51C</td>\n",
       "      <td>Truncating Mutations</td>\n",
       "      <td>1</td>\n",
       "      <td>Fanconi anemia (FA) is a rare chromosomal-inst...</td>\n",
       "    </tr>\n",
       "  </tbody>\n",
       "</table>\n",
       "<p>2124 rows × 5 columns</p>\n",
       "</div>"
      ],
      "text/plain": [
       "        ID    Gene             Variation  Class  \\\n",
       "988    988    ETV6     ETV6-NTRK3 Fusion      7   \n",
       "3319  3319   RUNX1                  R80C      4   \n",
       "528    528    TP53                 L145R      4   \n",
       "1520  1520     ALK                G1202R      7   \n",
       "1787  1787      AR                 A159T      1   \n",
       "...    ...     ...                   ...    ...   \n",
       "2369  2369  PTPN11                  D61Y      7   \n",
       "1615  1615     VHL                 L188V      1   \n",
       "1867  1867    MTOR                E2419K      7   \n",
       "1426  1426   FGFR3                 K650N      2   \n",
       "3112  3112  RAD51C  Truncating Mutations      1   \n",
       "\n",
       "                                                   TEXT  \n",
       "988   ETV6-NTRK3 (EN), a chimeric tyrosine kinase ge...  \n",
       "3319  The RUNX1/AML1 gene is the most frequent targe...  \n",
       "528   Mutations in the p53 tumor suppressor are the ...  \n",
       "1520  Most anaplastic lymphoma kinase (ALK)–positive...  \n",
       "1787  Androgen receptor (AR) mutations are associate...  \n",
       "...                                                 ...  \n",
       "2369  Noonan syndrome (NS) is characterized by short...  \n",
       "1615  The von Hippel-Lindau tumor suppressor protein...  \n",
       "1867  Understanding the genetic mechanisms of sensit...  \n",
       "1426  Introduction Hypochondroplasia (MIM 146000) is...  \n",
       "3112  Fanconi anemia (FA) is a rare chromosomal-inst...  \n",
       "\n",
       "[2124 rows x 5 columns]"
      ]
     },
     "execution_count": 207,
     "metadata": {},
     "output_type": "execute_result"
    }
   ],
   "source": [
    "train_df"
   ]
  },
  {
   "cell_type": "code",
   "execution_count": 208,
   "metadata": {},
   "outputs": [],
   "source": [
    "train_gene_var_onehotCoding = hstack((train_gene_onehotencoding,train_variation_feature_onehotCoding))\n",
    "test_gene_var_onehotCoding = hstack((test_gene_onehotencoding,test_variation_feature_onehotCoding))\n",
    "val_gene_var_onehotCoding = hstack((val_gene_onehotencoding,val_variation_feature_onehotCoding))\n",
    "\n"
   ]
  },
  {
   "cell_type": "code",
   "execution_count": 209,
   "metadata": {},
   "outputs": [],
   "source": [
    "train_inputs_onehotCoding = hstack((train_gene_var_onehotCoding, train_text_feature_onehotCoding)).tocsr()\n",
    "train_target = np.array(list(train_df['Class']))\n",
    "\n",
    "test_inputs_onehotCoding = hstack((test_gene_var_onehotCoding, test_text_feature_onehotCoding)).tocsr()\n",
    "test_target = np.array(list(test_df['Class']))\n",
    "\n",
    "val_inputs_onehotCoding = hstack((val_gene_var_onehotCoding, val_text_feature_onehotCoding)).tocsr()\n",
    "val_target = np.array(list(val_df['Class']))"
   ]
  },
  {
   "cell_type": "code",
   "execution_count": 210,
   "metadata": {},
   "outputs": [
    {
     "name": "stdout",
     "output_type": "stream",
     "text": [
      "One hot encoding features :\n",
      "(number of data points * number of features) in train data =  (2124, 40496)\n",
      "(number of data points * number of features) in test data =  (665, 40496)\n",
      "(number of data points * number of features) in cross validation data = (532, 40496)\n"
     ]
    }
   ],
   "source": [
    "print(\"One hot encoding features :\")\n",
    "print(\"(number of data points * number of features) in train data = \", train_inputs_onehotCoding.shape)\n",
    "print(\"(number of data points * number of features) in test data = \", test_inputs_onehotCoding.shape)\n",
    "print(\"(number of data points * number of features) in cross validation data =\", val_inputs_onehotCoding.shape)"
   ]
  },
  {
   "cell_type": "code",
   "execution_count": 217,
   "metadata": {},
   "outputs": [],
   "source": [
    "alpha=[10 ** i for i in range(-6,1)]"
   ]
  },
  {
   "cell_type": "code",
   "execution_count": 218,
   "metadata": {},
   "outputs": [
    {
     "name": "stdout",
     "output_type": "stream",
     "text": [
      "For values of alpha =  1e-06 The log loss is: 1.4719293571156984\n",
      "For values of alpha =  1e-05 The log loss is: 1.281553001378302\n",
      "For values of alpha =  0.0001 The log loss is: 1.0818762937465698\n",
      "For values of alpha =  0.001 The log loss is: 1.112719732651751\n",
      "For values of alpha =  0.01 The log loss is: 1.2614837285090121\n",
      "For values of alpha =  0.1 The log loss is: 1.5382978827503664\n",
      "For values of alpha =  1 The log loss is: 1.6855018049798487\n"
     ]
    }
   ],
   "source": [
    "cv_log_error_array=[]\n",
    "for i in alpha:\n",
    "    clf = SGDClassifier(alpha=i, penalty='l2', loss='log', random_state=42)\n",
    "    clf.fit(train_inputs_onehotCoding, train_target)\n",
    "    \n",
    "    sig_clf = CalibratedClassifierCV(clf, method=\"sigmoid\")\n",
    "    sig_clf.fit(train_inputs_onehotCoding, train_target)\n",
    "    predict_y = sig_clf.predict_proba(val_inputs_onehotCoding)\n",
    "    cv_log_error_array.append(log_loss(val_target, predict_y, labels=clf.classes_, eps=1e-15))\n",
    "    print('For values of alpha = ', i, \"The log loss is:\",log_loss(val_target, predict_y, labels=clf.classes_, eps=1e-15))\n"
   ]
  },
  {
   "cell_type": "code",
   "execution_count": 219,
   "metadata": {},
   "outputs": [],
   "source": [
    "alpha=0.0001"
   ]
  },
  {
   "cell_type": "code",
   "execution_count": 220,
   "metadata": {},
   "outputs": [
    {
     "data": {
      "text/plain": [
       "CalibratedClassifierCV(base_estimator=SGDClassifier(loss='log',\n",
       "                                                    random_state=42))"
      ]
     },
     "execution_count": 220,
     "metadata": {},
     "output_type": "execute_result"
    }
   ],
   "source": [
    "clf = SGDClassifier(alpha=0.0001, penalty='l2', loss='log', random_state=42)\n",
    "clf.fit(train_inputs_onehotCoding, train_target)\n",
    "    \n",
    "sig_clf = CalibratedClassifierCV(clf, method=\"sigmoid\")\n",
    "sig_clf.fit(train_inputs_onehotCoding, train_target)"
   ]
  },
  {
   "cell_type": "code",
   "execution_count": 221,
   "metadata": {},
   "outputs": [
    {
     "name": "stdout",
     "output_type": "stream",
     "text": [
      "0.4456137700155795\n"
     ]
    }
   ],
   "source": [
    "predict_y=sig_clf.predict_proba(train_inputs_onehotCoding)\n",
    "a=log_loss(train_target,predict_y)\n",
    "print(a)"
   ]
  },
  {
   "cell_type": "code",
   "execution_count": 222,
   "metadata": {},
   "outputs": [
    {
     "name": "stdout",
     "output_type": "stream",
     "text": [
      "1.0818762937465698\n"
     ]
    }
   ],
   "source": [
    "predict_y=sig_clf.predict_proba(val_inputs_onehotCoding)\n",
    "a=log_loss(val_target,predict_y)\n",
    "print(a)"
   ]
  },
  {
   "cell_type": "code",
   "execution_count": 223,
   "metadata": {},
   "outputs": [
    {
     "name": "stdout",
     "output_type": "stream",
     "text": [
      "1.194268577250163\n"
     ]
    }
   ],
   "source": [
    "predict_y=sig_clf.predict_proba(test_inputs_onehotCoding)\n",
    "a=log_loss(test_target,predict_y)\n",
    "print(a)"
   ]
  },
  {
   "cell_type": "code",
   "execution_count": 228,
   "metadata": {},
   "outputs": [],
   "source": [
    "alpha=[10 ** i for i in range(-6,1)]"
   ]
  },
  {
   "cell_type": "code",
   "execution_count": 229,
   "metadata": {},
   "outputs": [
    {
     "data": {
      "text/plain": [
       "[1e-06, 1e-05, 0.0001, 0.001, 0.01, 0.1, 1]"
      ]
     },
     "execution_count": 229,
     "metadata": {},
     "output_type": "execute_result"
    }
   ],
   "source": [
    "alpha"
   ]
  },
  {
   "cell_type": "code",
   "execution_count": 233,
   "metadata": {},
   "outputs": [],
   "source": [
    "best_alpha_index=np.argmin(cv_log_error_array)"
   ]
  },
  {
   "cell_type": "code",
   "execution_count": 234,
   "metadata": {},
   "outputs": [],
   "source": [
    "alpha=alpha[best_alpha_index]"
   ]
  },
  {
   "cell_type": "code",
   "execution_count": 235,
   "metadata": {},
   "outputs": [
    {
     "data": {
      "text/plain": [
       "0.0001"
      ]
     },
     "execution_count": 235,
     "metadata": {},
     "output_type": "execute_result"
    }
   ],
   "source": [
    "alpha"
   ]
  },
  {
   "cell_type": "code",
   "execution_count": 243,
   "metadata": {},
   "outputs": [
    {
     "name": "stdout",
     "output_type": "stream",
     "text": [
      "Log loss : 1.092923314903595\n",
      "Number of mis-classified points : 0.3533834586466165\n",
      "-------------------- Confusion matrix --------------------\n"
     ]
    },
    {
     "data": {
      "image/png": "[encoded data removed]",
      "text/plain": [
       "<Figure size 1440x504 with 2 Axes>"
      ]
     },
     "metadata": {
      "needs_background": "light"
     },
     "output_type": "display_data"
    },
    {
     "name": "stdout",
     "output_type": "stream",
     "text": [
      "-------------------- Precision matrix (Columm Sum=1) --------------------\n"
     ]
    },
    {
     "data": {
      "image/png": "[encoded data removed]",
      "text/plain": [
       "<Figure size 1440x504 with 2 Axes>"
      ]
     },
     "metadata": {
      "needs_background": "light"
     },
     "output_type": "display_data"
    },
    {
     "name": "stdout",
     "output_type": "stream",
     "text": [
      "-------------------- Recall matrix (Row sum=1) --------------------\n"
     ]
    },
    {
     "data": {
      "image/png": "[encoded data removed]",
      "text/plain": [
       "<Figure size 1440x504 with 2 Axes>"
      ]
     },
     "metadata": {
      "needs_background": "light"
     },
     "output_type": "display_data"
    }
   ],
   "source": [
    "clf = SGDClassifier(class_weight='balanced', alpha=0.0001, penalty='l2', loss='log', random_state=42)\n",
    "predict_and_plot_confusion_matrix(train_inputs_onehotCoding, train_target, val_inputs_onehotCoding, val_target, clf)"
   ]
  },
  {
   "cell_type": "code",
   "execution_count": 248,
   "metadata": {},
   "outputs": [
    {
     "name": "stdout",
     "output_type": "stream",
     "text": [
      "Predicted Class : 6\n",
      "Predicted Class Probabilities: [[0.1767 0.0256 0.0421 0.1954 0.2054 0.317  0.0285 0.0031 0.0062]]\n",
      "Actual Class : 6\n"
     ]
    }
   ],
   "source": [
    "clf = SGDClassifier(class_weight='balanced', alpha=0.0001, penalty='l2', loss='log', random_state=42)\n",
    "clf.fit(train_inputs_onehotCoding,train_target)\n",
    "test_point_index = 1\n",
    "no_feature = 500\n",
    "predicted_cls = sig_clf.predict(test_inputs_onehotCoding[test_point_index])\n",
    "print(\"Predicted Class :\", predicted_cls[0])\n",
    "print(\"Predicted Class Probabilities:\", np.round(sig_clf.predict_proba(test_inputs_onehotCoding[test_point_index]),4))\n",
    "print(\"Actual Class :\", test_target[test_point_index])"
   ]
  },
  {
   "cell_type": "code",
   "execution_count": null,
   "metadata": {},
   "outputs": [],
   "source": []
  },
  {
   "cell_type": "code",
   "execution_count": null,
   "metadata": {},
   "outputs": [],
   "source": []
  },
  {
   "cell_type": "code",
   "execution_count": null,
   "metadata": {},
   "outputs": [],
   "source": []
  },
  {
   "cell_type": "code",
   "execution_count": null,
   "metadata": {},
   "outputs": [],
   "source": []
  },
  {
   "cell_type": "code",
   "execution_count": null,
   "metadata": {},
   "outputs": [],
   "source": []
  },
  {
   "cell_type": "code",
   "execution_count": null,
   "metadata": {},
   "outputs": [],
   "source": []
  }
 ],
 "metadata": {
  "kernelspec": {
   "display_name": "Python 3",
   "language": "python",
   "name": "python3"
  },
  "language_info": {
   "codemirror_mode": {
    "name": "ipython",
    "version": 3
   },
   "file_extension": ".py",
   "mimetype": "text/x-python",
   "name": "python",
   "nbconvert_exporter": "python",
   "pygments_lexer": "ipython3",
   "version": "3.8.5"
  }
 },
 "nbformat": 4,
 "nbformat_minor": 4
}
